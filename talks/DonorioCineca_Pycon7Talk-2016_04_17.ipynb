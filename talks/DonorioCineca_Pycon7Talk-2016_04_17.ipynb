{
 "cells": [
  {
   "cell_type": "markdown",
   "metadata": {
    "slideshow": {
     "slide_type": "slide"
    }
   },
   "source": [
    "# Automatizzare la creazione e la gestione \n",
    "# di un cluster di containers su cloud\n",
    "\n",
    "*#Pycon7* \n",
    "\n",
    "**Sottotitolo**: \n",
    "\n",
    "la storia dell'ideazione del nostro ambiente di corsi per linguaggio Python basato su Openstack, Docker, Anaconda e Jupyter\n",
    "\n",
    "<small>Slides disponibili a http://j.mp/pycon7-cineca</small>"
   ]
  },
  {
   "cell_type": "markdown",
   "metadata": {
    "slideshow": {
     "slide_type": "slide"
    }
   },
   "source": [
    "```\n",
    "Io, ...\n",
    "```"
   ]
  },
  {
   "cell_type": "code",
   "execution_count": 6,
   "metadata": {
    "collapsed": false,
    "slideshow": {
     "slide_type": "skip"
    }
   },
   "outputs": [
    {
     "data": {
      "text/html": [
       "<style>\n",
       "table,td,tr,th {border:none!important}\n",
       "</style>"
      ],
      "text/plain": [
       "<IPython.core.display.HTML object>"
      ]
     },
     "metadata": {},
     "output_type": "display_data"
    }
   ],
   "source": [
    "%%html\n",
    "<style>\n",
    "table,td,tr,th {border:none!important}\n",
    "</style>"
   ]
  },
  {
   "cell_type": "markdown",
   "metadata": {
    "slideshow": {
     "slide_type": "subslide"
    }
   },
   "source": [
    "<style type=\"text/css\" scoped>\n",
    "table,td,tr,th {border:none!important}\n",
    "</style>\n",
    "<table>\n",
    "<tr> <td colspan=2 align=center style='border: 0px;'>\n",
    "<center>\n",
    "<h1>\n",
    "Chi sono\n",
    "</h1>\n",
    "</center>\n",
    "</td>\n",
    "</tr>\n",
    "\n",
    "<tr>\n",
    "\n",
    "<td>\n",
    "\n",
    "<br>\n",
    "<img src='https://pbs.twimg.com/profile_images/588326878697619456/8lAb7yJ8.jpg' width=400>\n",
    "\n",
    "</td>\n",
    "\n",
    "<td>\n",
    "<ul>\n",
    "<li>\n",
    "Paolo [p.donoriodemeo@cineca.it](mailto:p.donoriodemeo@cineca.it) \n",
    "</li>\n",
    "<li>\n",
    "Twitter [@paolodonorio](https://twitter.com/paolodonorio)\n",
    "</li>\n",
    "<li>\n",
    "GitHub [@pdonorio](https://github.com/pdonorio), \n",
    "<br>&nbsp; [@cineca-scai](https://github.com/cineca-scai), [@EUDAT-B2STAGE](https://github.com/EUDAT-B2STAGE)\n",
    "</li>\n",
    "<li>Pythonista: 4 anni &hearts; con Python</li> \n",
    "<li>Secondo anno di seguito al Pycon</li> \n",
    "<li>Prima volta che presento (al Pycon)</li>\n",
    "</ul>\n",
    "</td>\n",
    "\n",
    "</tr></table>"
   ]
  },
  {
   "cell_type": "markdown",
   "metadata": {
    "slideshow": {
     "slide_type": "subslide"
    }
   },
   "source": [
    "<center>\n",
    "<h3> CINECA - Dipartimento SCAI </h3>\n",
    "<br>\n",
    "<i>Supporto alla ricerca e collaborazioni</i>\n",
    "<img src='http://www.hpc.cineca.it/sites/all/themes/scai/logo.png'>\n",
    "</center>"
   ]
  },
  {
   "cell_type": "markdown",
   "metadata": {
    "slideshow": {
     "slide_type": "subslide"
    }
   },
   "source": [
    "<img src='https://raw.githubusercontent.com/cineca-scai/lectures/sns/material/DAY_01/images/cineca.png'>"
   ]
  },
  {
   "cell_type": "markdown",
   "metadata": {
    "slideshow": {
     "slide_type": "subslide"
    }
   },
   "source": [
    "### Macchine di calcolo\n",
    "\n",
    "* *FERMI*\n",
    "    - BlueGene/Q - 163.840 cores\n",
    "* *GALILEO*\n",
    "    - IBM NeXtScale - 8.256 cores\n",
    "* *PICO*\n",
    "    - Architettura ibrida - 1.320+ cores"
   ]
  },
  {
   "cell_type": "markdown",
   "metadata": {
    "slideshow": {
     "slide_type": "fragment"
    }
   },
   "source": [
    "* *MARCONI*\n",
    "    - http://www.cineca.it/it/news/supercomputer-marconi (13/04/2016 )"
   ]
  },
  {
   "cell_type": "markdown",
   "metadata": {
    "slideshow": {
     "slide_type": "subslide"
    }
   },
   "source": [
    "### Richiesta risorse per il tuo progetto\n",
    "\n",
    "* **ISCRA** Nazionale \n",
    "* **PRACE** Europeo"
   ]
  },
  {
   "cell_type": "markdown",
   "metadata": {
    "slideshow": {
     "slide_type": "subslide"
    }
   },
   "source": [
    "### Corsi su High Performance Computing\n",
    "\n",
    "* Unix, C, C++, Fortran\n",
    "* MPI, OpenMP\n",
    "* Python\n",
    "\n",
    "http://www.cineca.it/it/content/elenco-corsi-hpc-2016"
   ]
  },
  {
   "cell_type": "markdown",
   "metadata": {
    "slideshow": {
     "slide_type": "slide"
    }
   },
   "source": [
    "```\n",
    "Io => Corso Python => ...\n",
    "```"
   ]
  },
  {
   "cell_type": "markdown",
   "metadata": {
    "slideshow": {
     "slide_type": "subslide"
    }
   },
   "source": [
    "# Python for computing science\n",
    "\n",
    "- 2013: docente per il corso\n",
    "- Introduzione al linguaggio + Numpy, Scipy, Matplotlib, Cython, f2py\n",
    "- Slides in powerpoint\n",
    "- Canopy su Pc Windows per corsi"
   ]
  },
  {
   "cell_type": "markdown",
   "metadata": {},
   "source": [
    "## Cosa è piaciuto\n",
    "\n",
    "- Linguaggio con curva veloce di apprendimento\n",
    "- Spiegazione funzionale "
   ]
  },
  {
   "cell_type": "markdown",
   "metadata": {},
   "source": [
    "## Cosa non è piaciuto\n",
    "\n",
    "- Persone con proprio laptop: setup e versioni\n",
    "- Spiegare dove salvare i files per eseguirli\n",
    "- Shell (cmd) di windows\n",
    "- Copia/incolla template e soluzioni"
   ]
  },
  {
   "cell_type": "markdown",
   "metadata": {},
   "source": [
    "### Lo studente medio di un nostro corso Python\n",
    "\n",
    "* Dall'accademia: laureando, dottorando, ricercatore\n",
    "* Scarse nozioni di programmazione generale\n",
    "* Qualche codice di scripting (quasi certamente R)\n",
    "* Necessita librerie con funzioni scientifiche\n",
    "* Vuole plot dei dati analizzati\n",
    "* Materiale con molti esempi pratici\n",
    "* Istruzioni su come installare in locale un ambiente analogo al cluster di calcolo"
   ]
  },
  {
   "cell_type": "markdown",
   "metadata": {
    "slideshow": {
     "slide_type": "slide"
    }
   },
   "source": [
    "```\n",
    "Io => Corso Python => Docker => ...\n",
    "```"
   ]
  },
  {
   "cell_type": "markdown",
   "metadata": {
    "slideshow": {
     "slide_type": "subslide"
    }
   },
   "source": [
    "## Contenitori\n",
    "\n",
    "I `container` e loro implementazioni"
   ]
  },
  {
   "cell_type": "markdown",
   "metadata": {},
   "source": [
    "LXC\n",
    "\n",
    "Docker, LXD, CoreOs qualcosa, Swift"
   ]
  },
  {
   "cell_type": "markdown",
   "metadata": {
    "slideshow": {
     "slide_type": "subslide"
    }
   },
   "source": [
    "## L'ecosistema Docker"
   ]
  },
  {
   "cell_type": "markdown",
   "metadata": {
    "slideshow": {
     "slide_type": "slide"
    }
   },
   "source": [
    "```\n",
    "Io => Corso Python => Docker => Anaconda => ....\n",
    "```"
   ]
  },
  {
   "cell_type": "markdown",
   "metadata": {
    "slideshow": {
     "slide_type": "subslide"
    }
   },
   "source": [
    "### L'immagine Docker"
   ]
  },
  {
   "cell_type": "markdown",
   "metadata": {},
   "source": [
    "## Cosa è piaciuto\n",
    "\n",
    "- Possibilità di replicare l'ambiente di esercitazione a casa"
   ]
  },
  {
   "cell_type": "markdown",
   "metadata": {},
   "source": [
    "## Cosa non è piaciuto\n",
    "\n",
    "- Il tempo passato a spiegare come usare Docker\n",
    "- Copia/incolla di comandi non molto chiari (e.g. rimuovi tutti i containers)"
   ]
  },
  {
   "cell_type": "markdown",
   "metadata": {
    "slideshow": {
     "slide_type": "slide"
    }
   },
   "source": [
    "```\n",
    "Io => Corso Python => Docker => Anaconda => \n",
    "    Jupyter => ...\n",
    "```"
   ]
  },
  {
   "cell_type": "markdown",
   "metadata": {
    "slideshow": {
     "slide_type": "subslide"
    }
   },
   "source": [
    "Quando è avvenuto il fork?"
   ]
  },
  {
   "cell_type": "markdown",
   "metadata": {},
   "source": [
    "Docker stack repo"
   ]
  },
  {
   "cell_type": "markdown",
   "metadata": {},
   "source": [
    "GitHub cineca lectures"
   ]
  },
  {
   "cell_type": "markdown",
   "metadata": {},
   "source": [
    "Rise plugin?"
   ]
  },
  {
   "cell_type": "markdown",
   "metadata": {},
   "source": [
    "Hub docker cineca e aggiornamento (facile) delle versioni nelle immagini"
   ]
  },
  {
   "cell_type": "markdown",
   "metadata": {},
   "source": [
    "MapReduce, Hadoop, Spark\n",
    "\n",
    "(e immagine docker con cluster hadoop)"
   ]
  },
  {
   "cell_type": "markdown",
   "metadata": {
    "slideshow": {
     "slide_type": "slide"
    }
   },
   "source": [
    "```\n",
    "Io => Corso Python => Docker => Anaconda => \n",
    "    Jupyter => Pycon6 => ...\n",
    "```"
   ]
  },
  {
   "cell_type": "markdown",
   "metadata": {
    "slideshow": {
     "slide_type": "subslide"
    }
   },
   "source": [
    "L'ispirazione per questo talk\n",
    "\n",
    "https://twitter.com/paolodonorio/status/589834889974919168\n",
    "    "
   ]
  },
  {
   "cell_type": "markdown",
   "metadata": {
    "slideshow": {
     "slide_type": "slide"
    }
   },
   "source": [
    "```\n",
    "Io => Corso Python => Docker => Anaconda => \n",
    "    Jupyter => Pycon6 => OpenStack => ...\n",
    "```"
   ]
  },
  {
   "cell_type": "markdown",
   "metadata": {
    "slideshow": {
     "slide_type": "subslide"
    }
   },
   "source": [
    "## Uno swarm per ghermirli tutti\n",
    "\n",
    "Pico e il cloud al Cineca"
   ]
  },
  {
   "cell_type": "markdown",
   "metadata": {},
   "source": [
    "# Un cluster volatile (on demand)\n",
    "\n",
    "swarm 1.0 in produzione (quando è uscito?)"
   ]
  },
  {
   "cell_type": "markdown",
   "metadata": {},
   "source": [
    "Protocollo per creare uno swarm con Docker:\n",
    "\n",
    "- docker-machine per ogni VM\n",
    "- crea token swarm su Docker Hub\n",
    "- docker swarm master da una VM\n",
    "- docker swarm slave da tutte le altre VM\n",
    "- check se tutte le VM sono collegate allo swarm"
   ]
  },
  {
   "cell_type": "markdown",
   "metadata": {},
   "source": [
    "n.b. grazie a docker machine possiamo usare un cloud qualsiasi:\n",
    "    \n",
    "virtualbox, openstack, aws, google cloud, azure, etc."
   ]
  },
  {
   "cell_type": "markdown",
   "metadata": {},
   "source": [
    "# Due settimane per sviluppare il prototipo"
   ]
  },
  {
   "cell_type": "markdown",
   "metadata": {},
   "source": [
    "work in progress gif"
   ]
  },
  {
   "cell_type": "markdown",
   "metadata": {},
   "source": [
    "plumbum, paramiko, invoke \n",
    "(fabric non python3-ready)"
   ]
  },
  {
   "cell_type": "markdown",
   "metadata": {},
   "source": [
    "esempio di input csv"
   ]
  },
  {
   "cell_type": "markdown",
   "metadata": {},
   "source": [
    "esempio di output lista containers"
   ]
  },
  {
   "cell_type": "markdown",
   "metadata": {},
   "source": [
    "demo da command line invoke -l"
   ]
  },
  {
   "cell_type": "markdown",
   "metadata": {},
   "source": [
    "aggiungi comando list containers?"
   ]
  },
  {
   "cell_type": "markdown",
   "metadata": {},
   "source": [
    "---"
   ]
  },
  {
   "cell_type": "markdown",
   "metadata": {},
   "source": [
    "Voti corso python for computing science 2015"
   ]
  },
  {
   "cell_type": "markdown",
   "metadata": {},
   "source": [
    "Corso \"Python for computing science\"\n",
    "\n",
    "2012 - Fusione\n",
    "2013 - Slides in powerpoint\n",
    "2014 - Docker su computer windows con virtualbox\n",
    "2015/03 - Docker su linux workstation per fornire Hadoop & Pyspark\n",
    "2015/12 - Jupyter su Docker "
   ]
  },
  {
   "cell_type": "markdown",
   "metadata": {},
   "source": [
    "- Computing science @rome\n",
    "- Massive data analytics @rome\n",
    "- Master for Big Data @bologna\n",
    "- Massive data analytics @bologna\n",
    "- Python objects and MapReduce @pisa"
   ]
  },
  {
   "cell_type": "markdown",
   "metadata": {
    "slideshow": {
     "slide_type": "slide"
    }
   },
   "source": [
    "```\n",
    "Io => Corso Python => Docker => Anaconda => \n",
    "    Jupyter => Pycon6 => OpenStack => \n",
    "    Il futuro => ...\n",
    "```"
   ]
  },
  {
   "cell_type": "markdown",
   "metadata": {
    "slideshow": {
     "slide_type": "slide"
    }
   },
   "source": [
    "## Il mio futuro con il Python e Docker\n",
    "\n",
    "- Roadmap \n",
    "- Issues and Pull request\n",
    "- HPC EUROPA 3 - JRA su Containers\n",
    "- Flask REST HTTP API per progetto EUDAT"
   ]
  },
  {
   "cell_type": "markdown",
   "metadata": {
    "slideshow": {
     "slide_type": "subslide"
    }
   },
   "source": [
    "## Dockerize or not to dockerize?"
   ]
  }
 ],
 "metadata": {
  "celltoolbar": "Slideshow",
  "kernelspec": {
   "display_name": "Python 3",
   "language": "python",
   "name": "python3"
  },
  "language_info": {
   "codemirror_mode": {
    "name": "ipython",
    "version": 3
   },
   "file_extension": ".py",
   "mimetype": "text/x-python",
   "name": "python",
   "nbconvert_exporter": "python",
   "pygments_lexer": "ipython3",
   "version": "3.4.3"
  }
 },
 "nbformat": 4,
 "nbformat_minor": 0
}
