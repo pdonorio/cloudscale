{
 "cells": [
  {
   "cell_type": "markdown",
   "metadata": {
    "slideshow": {
     "slide_type": "slide"
    }
   },
   "source": [
    "<img src='images/welcome.jpeg'>"
   ]
  },
  {
   "cell_type": "markdown",
   "metadata": {
    "slideshow": {
     "slide_type": "skip"
    }
   },
   "source": [
    "# Automatizzare la creazione e la gestione di un cluster di containers su cloud\n",
    "\n",
    "*#Pycon7* \n",
    "\n",
    "<small>Slides disponibili a http://j.mp/pycon7-cineca</small>"
   ]
  },
  {
   "cell_type": "markdown",
   "metadata": {
    "slideshow": {
     "slide_type": "subslide"
    }
   },
   "source": [
    "*Sottotitolo*\n",
    "\n",
    "> La storia del nostro ambiente di corsi Python basato su Openstack, Docker, Anaconda e Jupyter\n"
   ]
  },
  {
   "cell_type": "markdown",
   "metadata": {
    "slideshow": {
     "slide_type": "skip"
    }
   },
   "source": [
    "Logo pycon 7 https://odoo-community.org/website/image/ir.attachment/26982_7b70ca1/datas"
   ]
  },
  {
   "cell_type": "markdown",
   "metadata": {
    "slideshow": {
     "slide_type": "slide"
    }
   },
   "source": [
    "## Cronologia\n",
    "\n",
    "<div style=\"font-family: monospace;\">\n",
    "&nbsp;&nbsp;&nbsp;&nbsp;&nbsp;&nbsp;&nbsp; Me &#8592;\n",
    "<br>\n",
    "2013/12 Corso Python\n",
    "<br>\n",
    "2014/01 Docker\n",
    "<br>\n",
    "2014/11 Anaconda\n",
    "<br>\n",
    "2014/12 Jupyter\n",
    "<br>\n",
    "2015/04 Pycon6\n",
    "<br>\n",
    "2015/05 OpenStack\n",
    "<br>\n",
    "2015/12 Sviluppo del prototipo\n",
    "<br>\n",
    "2016/04 Pycon7\n",
    "<div>"
   ]
  },
  {
   "cell_type": "code",
   "execution_count": 1,
   "metadata": {
    "collapsed": false,
    "slideshow": {
     "slide_type": "skip"
    }
   },
   "outputs": [
    {
     "data": {
      "text/html": [
       "<style>\n",
       "table,td,tr,th {border:none!important}\n",
       "</style>"
      ],
      "text/plain": [
       "<IPython.core.display.HTML object>"
      ]
     },
     "metadata": {},
     "output_type": "display_data"
    }
   ],
   "source": [
    "%%html\n",
    "<style>\n",
    "table,td,tr,th {border:none!important}\n",
    "</style>"
   ]
  },
  {
   "cell_type": "markdown",
   "metadata": {
    "slideshow": {
     "slide_type": "subslide"
    }
   },
   "source": [
    "<style type=\"text/css\" scoped>\n",
    "table,td,tr,th {border:none!important}\n",
    "</style>\n",
    "<table>\n",
    "<tr> <td colspan=2 align=center style='border: 0px;'>\n",
    "<center>\n",
    "<h1>\n",
    "Chi sono\n",
    "</h1>\n",
    "</center>\n",
    "</td>\n",
    "</tr>\n",
    "\n",
    "<tr>\n",
    "\n",
    "<td>\n",
    "\n",
    "<br>\n",
    "<img src='https://pbs.twimg.com/profile_images/588326878697619456/8lAb7yJ8.jpg' width=400>\n",
    "\n",
    "</td>\n",
    "\n",
    "<td>\n",
    "<ul>\n",
    "<li>\n",
    "Paolo [p.donoriodemeo@cineca.it](mailto:p.donoriodemeo@cineca.it) \n",
    "</li>\n",
    "<li>\n",
    "Twitter [@paolodonorio](https://twitter.com/paolodonorio)\n",
    "</li>\n",
    "<li>\n",
    "GitHub [@pdonorio](https://github.com/pdonorio), \n",
    "<br>&nbsp; [@cineca-scai](https://github.com/cineca-scai), [@EUDAT-B2STAGE](https://github.com/EUDAT-B2STAGE)\n",
    "</li>\n",
    "<li>Pythonista: 4 anni &hearts; con Python</li> \n",
    "<li>Secondo anno di seguito al Pycon</li> \n",
    "<li>Prima volta che presento (al Pycon)</li>\n",
    "</ul>\n",
    "</td>\n",
    "\n",
    "</tr></table>"
   ]
  },
  {
   "cell_type": "markdown",
   "metadata": {
    "slideshow": {
     "slide_type": "subslide"
    }
   },
   "source": [
    "<center>\n",
    "<h3> CINECA - Dipartimento SCAI </h3>\n",
    "<br>\n",
    "<i>Supporto alla ricerca e collaborazioni</i>\n",
    "\n",
    "<br>\n",
    "<br>\n",
    "\n",
    "<br>\n",
    "<br>\n",
    "<img src='http://www.hpc.cineca.it/sites/all/themes/scai/logo.png' width=800>\n",
    "</center>"
   ]
  },
  {
   "cell_type": "markdown",
   "metadata": {
    "slideshow": {
     "slide_type": "subslide"
    }
   },
   "source": [
    "<img src='https://raw.githubusercontent.com/cineca-scai/lectures/sns/material/DAY_01/images/cineca.png'>"
   ]
  },
  {
   "cell_type": "markdown",
   "metadata": {
    "slideshow": {
     "slide_type": "subslide"
    }
   },
   "source": [
    "### Macchine di calcolo\n",
    "\n",
    "* *FERMI*\n",
    "    - BlueGene/Q - 163.840 cores\n",
    "* *GALILEO*\n",
    "    - IBM NeXtScale - 8.256 cores\n",
    "* *PICO*\n",
    "    - Architettura ibrida - 1.320+ cores"
   ]
  },
  {
   "cell_type": "markdown",
   "metadata": {
    "slideshow": {
     "slide_type": "fragment"
    }
   },
   "source": [
    "* *MARCONI*\n",
    "    - http://www.cineca.it/it/news/supercomputer-marconi (13/04/2016 )"
   ]
  },
  {
   "cell_type": "markdown",
   "metadata": {
    "slideshow": {
     "slide_type": "subslide"
    }
   },
   "source": [
    "### Richiesta risorse per il tuo progetto\n",
    "\n",
    "* **ISCRA** Nazionale \n",
    "* **PRACE** Europeo"
   ]
  },
  {
   "cell_type": "markdown",
   "metadata": {
    "slideshow": {
     "slide_type": "subslide"
    }
   },
   "source": [
    "### Corsi su High Performance Computing\n",
    "\n",
    "* Unix, C, C++, Fortran\n",
    "* MPI, OpenMP\n",
    "* Python\n",
    "\n",
    "http://www.cineca.it/it/content/elenco-corsi-hpc-2016"
   ]
  },
  {
   "cell_type": "markdown",
   "metadata": {
    "slideshow": {
     "slide_type": "slide"
    }
   },
   "source": [
    "## Cronologia\n",
    "\n",
    "<div style=\"font-family: monospace;\">\n",
    "&nbsp;&nbsp;&nbsp;&nbsp;&nbsp;&nbsp;&nbsp; Me\n",
    "<br>\n",
    "2013/12 Corso Python  &#8592;\n",
    "<br>\n",
    "2014/01 Docker\n",
    "<br>\n",
    "2014/11 Anaconda\n",
    "<br>\n",
    "2014/12 Jupyter\n",
    "<br>\n",
    "2015/04 Pycon6\n",
    "<br>\n",
    "2015/05 OpenStack\n",
    "<br>\n",
    "2015/12 Sviluppo del prototipo\n",
    "<br>\n",
    "2016/04 Pycon7\n",
    "<div>"
   ]
  },
  {
   "cell_type": "markdown",
   "metadata": {
    "slideshow": {
     "slide_type": "subslide"
    }
   },
   "source": [
    "# Python for computing science\n",
    "\n",
    "Il mio primo corso Python"
   ]
  },
  {
   "cell_type": "markdown",
   "metadata": {
    "slideshow": {
     "slide_type": "fragment"
    }
   },
   "source": [
    "- Docente\n",
    "    - Introduzione al linguaggio\n",
    "- PyData: Numpy, Scipy, Matplotlib, Cython, f2py\n",
    "- Slides in powerpoint\n",
    "- *Canopy* su Pc Windows per corsi"
   ]
  },
  {
   "cell_type": "markdown",
   "metadata": {
    "slideshow": {
     "slide_type": "subslide"
    }
   },
   "source": [
    "## The good\n",
    "\n",
    "- Linguaggio con curva veloce di apprendimento\n",
    "- Spiegazione funzionale "
   ]
  },
  {
   "cell_type": "markdown",
   "metadata": {
    "slideshow": {
     "slide_type": "fragment"
    }
   },
   "source": [
    "## The bad\n",
    "\n",
    "- Persone con proprio laptop: setup e versioni\n",
    "- Spiegare dove salvare i files per eseguirli"
   ]
  },
  {
   "cell_type": "markdown",
   "metadata": {
    "slideshow": {
     "slide_type": "fragment"
    }
   },
   "source": [
    "## The ugly\n",
    "\n",
    "- Shell (cmd) di windows\n",
    "- Copia/incolla template e soluzioni"
   ]
  },
  {
   "cell_type": "markdown",
   "metadata": {
    "slideshow": {
     "slide_type": "subslide"
    }
   },
   "source": [
    "### Lo studente medio di un nostro corso Python"
   ]
  },
  {
   "cell_type": "markdown",
   "metadata": {
    "slideshow": {
     "slide_type": "subslide"
    }
   },
   "source": [
    "<table>\n",
    "<tr>\n",
    "<td>\n",
    "<img src='http://www.warnerchannel.com/res/series/tbbt/character/per_howard_wolowitz.jpg' width=400>\n",
    "</td>\n",
    "<td>\n",
    "\n",
    "<ul>\n",
    "<li>\n",
    "Dall'accademia: laureando, dottorando, ricercatore\n",
    "</li><li>\n",
    "Scarse nozioni di programmazione classica\n",
    "</li><li>\n",
    "Qualche codice di scripting (quasi certamente R)\n",
    "</li><li>\n",
    "Necessita librerie con funzioni scientifiche\n",
    "</li><li>\n",
    "Vuole plot dei dati analizzati\n",
    "</li><li>\n",
    "Materiale con molti esempi pratici\n",
    "</li><li>\n",
    "Istruzioni su come installare in locale un ambiente analogo al cluster di calcolo\n",
    "</li>\n",
    "</ul>\n",
    "\n",
    "</td>\n",
    "</tr>\n",
    "</table>"
   ]
  },
  {
   "cell_type": "markdown",
   "metadata": {
    "slideshow": {
     "slide_type": "slide"
    }
   },
   "source": [
    "## Cronologia\n",
    "\n",
    "<div style=\"font-family: monospace;\">\n",
    "&nbsp;&nbsp;&nbsp;&nbsp;&nbsp;&nbsp;&nbsp; Me \n",
    "<br>\n",
    "2013/12 Corso Python\n",
    "<br>\n",
    "2014/01 Docker (v 1.2) &#8592;\n",
    "<br>\n",
    "2014/11 Anaconda\n",
    "<br>\n",
    "2014/12 Jupyter\n",
    "<br>\n",
    "2015/04 Pycon6\n",
    "<br>\n",
    "2015/05 OpenStack\n",
    "<br>\n",
    "2015/12 Sviluppo del prototipo\n",
    "<br>\n",
    "2016/04 Pycon7\n",
    "<div>"
   ]
  },
  {
   "cell_type": "markdown",
   "metadata": {
    "slideshow": {
     "slide_type": "subslide"
    }
   },
   "source": [
    "* Primi test con la creazione di API endpoint usando Flask\n",
    "* Replicare la stessa macchina virtuale da zero tra sviluppo e produzione"
   ]
  },
  {
   "cell_type": "markdown",
   "metadata": {
    "slideshow": {
     "slide_type": "fragment"
    }
   },
   "source": [
    "**stackoverflow**: [Should i use Vagrant or Docker](http://stackoverflow.com/questions/16647069/should-i-use-vagrant-or-docker-for-creating-an-isolated-environment)"
   ]
  },
  {
   "cell_type": "markdown",
   "metadata": {
    "slideshow": {
     "slide_type": "subslide"
    }
   },
   "source": [
    "## Contenitori e implementazioni"
   ]
  },
  {
   "cell_type": "markdown",
   "metadata": {
    "slideshow": {
     "slide_type": "subslide"
    }
   },
   "source": [
    "<img src=\"http://danstroot.com/assets/img/dockervsvm.png\">"
   ]
  },
  {
   "cell_type": "markdown",
   "metadata": {
    "slideshow": {
     "slide_type": "subslide"
    }
   },
   "source": [
    "- Un concetto utilizzato più di dieci anni fa\n",
    "    * LXC\n",
    "- Virtualizzazione su specifiche del Kernel \n",
    "    * CGROUPS (users, disk)\n",
    "    * NameSpaces (processes)\n",
    "- Orientato a performance vicine all'hardware\n",
    "    * Limitata a distribuzioni UNIX"
   ]
  },
  {
   "cell_type": "markdown",
   "metadata": {
    "slideshow": {
     "slide_type": "subslide"
    }
   },
   "source": [
    "> **What's LXC?**\n",
    "\n",
    "> LXC is a userspace interface for the Linux kernel containment features."
   ]
  },
  {
   "cell_type": "markdown",
   "metadata": {
    "slideshow": {
     "slide_type": "subslide"
    }
   },
   "source": [
    "## Quali alternative abbiamo?\n",
    "\n",
    "* LXC\n",
    "    - [LXD](https://linuxcontainers.org/lxd/introduction/)\n",
    "    - [Virtuozzo](https://virtuozzo.com/)\n",
    "    - [LVE](http://docs.cloudlinux.com/index.html?understanding_lve.html)\n",
    "* Docker\n",
    "* CoreOs [rkt](https://coreos.com/rkt/)\n",
    "* HPC [Shifter](http://j.mp/266N5hE)"
   ]
  },
  {
   "cell_type": "markdown",
   "metadata": {
    "slideshow": {
     "slide_type": "subslide"
    }
   },
   "source": [
    "## L'ecosistema Docker\n",
    "\n",
    "<img src=\"http://j.mp/1QUUrKp\" width=500>"
   ]
  },
  {
   "cell_type": "markdown",
   "metadata": {
    "slideshow": {
     "slide_type": "subslide"
    }
   },
   "source": [
    "> On March 13, 2014, with the release of version 0.9, Docker dropped LXC as the default execution environment and replaced it with its own libcontainer library written in the Go programming language."
   ]
  },
  {
   "cell_type": "markdown",
   "metadata": {
    "slideshow": {
     "slide_type": "subslide"
    }
   },
   "source": [
    "## Docker engine\n",
    "\n",
    "<img src='https://denibertovic.com/talks/supercharge-development-env-using-docker/img/what_is_docker.png'>\n"
   ]
  },
  {
   "cell_type": "markdown",
   "metadata": {
    "slideshow": {
     "slide_type": "subslide"
    }
   },
   "source": [
    "* Ha reso facile l'utilizzo dei container\n",
    "* Basato su un linguaggio a basso livello moderno (chiamato [GO](https://golang.org/), ideato da Google)\n",
    "* Implementata su libcontainers"
   ]
  },
  {
   "cell_type": "markdown",
   "metadata": {
    "slideshow": {
     "slide_type": "subslide"
    }
   },
   "source": [
    "## Docker client: i comandi da shell"
   ]
  },
  {
   "cell_type": "code",
   "execution_count": null,
   "metadata": {
    "collapsed": false,
    "slideshow": {
     "slide_type": "skip"
    }
   },
   "outputs": [],
   "source": [
    "%%bash \n",
    "# Extra clean to show examples\n",
    "docker rm -f $(docker ps -a -q)"
   ]
  },
  {
   "cell_type": "markdown",
   "metadata": {
    "collapsed": false,
    "slideshow": {
     "slide_type": "subslide"
    }
   },
   "source": [
    "How docker commands work:\n",
    "\n",
    "```bash\n",
    "# Generic client\n",
    "docker DOCKER_COMMAND <options> \n",
    "\n",
    "# Run command\n",
    "docker run <options> IMAGE BASH_COMMAND\n",
    "```"
   ]
  },
  {
   "cell_type": "markdown",
   "metadata": {
    "collapsed": false,
    "slideshow": {
     "slide_type": "subslide"
    }
   },
   "source": [
    "> Execute a container"
   ]
  },
  {
   "cell_type": "code",
   "execution_count": 2,
   "metadata": {
    "collapsed": false,
    "slideshow": {
     "slide_type": "fragment"
    }
   },
   "outputs": [
    {
     "name": "stdout",
     "output_type": "stream",
     "text": [
      "bin   dev  home  lib64\tmnt  proc  run\t srv  tmp  var\r\n",
      "boot  etc  lib\t media\topt  root  sbin  sys  usr\r\n"
     ]
    }
   ],
   "source": [
    "! docker run -it ubuntu:15.10 ls /"
   ]
  },
  {
   "cell_type": "markdown",
   "metadata": {
    "collapsed": false,
    "slideshow": {
     "slide_type": "subslide"
    }
   },
   "source": [
    "> Launch a database server on the fly"
   ]
  },
  {
   "cell_type": "code",
   "execution_count": 3,
   "metadata": {
    "collapsed": false,
    "slideshow": {
     "slide_type": "fragment"
    }
   },
   "outputs": [
    {
     "name": "stdout",
     "output_type": "stream",
     "text": [
      "4714a1555e88b77095d175a28051aa2143f76c3190bc434f8837123a85c64519\r\n"
     ]
    }
   ],
   "source": [
    "! docker run \\\n",
    "    --detach \\\n",
    "    --name mydb \\\n",
    "    -e POSTGRES_USER=paulie \\\n",
    "    -e POSTGRES_PASSWORD=mypass \\\n",
    "    -e POSTGRES_DB=justadb \\\n",
    "    postgres"
   ]
  },
  {
   "cell_type": "markdown",
   "metadata": {
    "slideshow": {
     "slide_type": "subslide"
    }
   },
   "source": [
    "Congelare lo stato in stand-by"
   ]
  },
  {
   "cell_type": "code",
   "execution_count": 4,
   "metadata": {
    "collapsed": false,
    "slideshow": {
     "slide_type": "fragment"
    }
   },
   "outputs": [
    {
     "name": "stdout",
     "output_type": "stream",
     "text": [
      "mydb\r\n"
     ]
    }
   ],
   "source": [
    "! docker stop mydb"
   ]
  },
  {
   "cell_type": "code",
   "execution_count": 5,
   "metadata": {
    "collapsed": false,
    "slideshow": {
     "slide_type": "fragment"
    }
   },
   "outputs": [
    {
     "name": "stdout",
     "output_type": "stream",
     "text": [
      "mydb\r\n"
     ]
    }
   ],
   "source": [
    "! docker start mydb"
   ]
  },
  {
   "cell_type": "markdown",
   "metadata": {
    "slideshow": {
     "slide_type": "subslide"
    }
   },
   "source": [
    "Esegui un comando su un container Docker che è attualmente in esecuzione"
   ]
  },
  {
   "cell_type": "code",
   "execution_count": 6,
   "metadata": {
    "collapsed": false,
    "slideshow": {
     "slide_type": "fragment"
    }
   },
   "outputs": [
    {
     "name": "stdout",
     "output_type": "stream",
     "text": [
      "apt   exim4\t   insserv    misc  postgresql\tsystemd  update-rc.d  xml-core\r\n",
      "dpkg  initscripts  logrotate  pam   sgml-base\tucf\t urandom\r\n"
     ]
    }
   ],
   "source": [
    "! docker exec -it mydb ls /var/lib"
   ]
  },
  {
   "cell_type": "code",
   "execution_count": 7,
   "metadata": {
    "collapsed": false,
    "slideshow": {
     "slide_type": "fragment"
    }
   },
   "outputs": [
    {
     "name": "stdout",
     "output_type": "stream",
     "text": [
      "\u001b[34mpostfix\u001b[m\u001b[m\r\n"
     ]
    }
   ],
   "source": [
    "# Notare che nel mio laptop ha un contenuto diverso\n",
    "! ls /var/lib"
   ]
  },
  {
   "cell_type": "markdown",
   "metadata": {
    "slideshow": {
     "slide_type": "subslide"
    }
   },
   "source": [
    "## Containers and processes"
   ]
  },
  {
   "cell_type": "code",
   "execution_count": 8,
   "metadata": {
    "collapsed": false,
    "slideshow": {
     "slide_type": "subslide"
    }
   },
   "outputs": [
    {
     "name": "stdout",
     "output_type": "stream",
     "text": [
      "CONTAINER ID        IMAGE               COMMAND                  CREATED              STATUS              PORTS               NAMES\r\n",
      "4714a1555e88        postgres            \"/docker-entrypoint.s\"   About a minute ago   Up 43 seconds       5432/tcp            mydb\r\n"
     ]
    }
   ],
   "source": [
    "! docker ps"
   ]
  },
  {
   "cell_type": "code",
   "execution_count": 9,
   "metadata": {
    "collapsed": false,
    "slideshow": {
     "slide_type": "subslide"
    }
   },
   "outputs": [
    {
     "name": "stdout",
     "output_type": "stream",
     "text": [
      "CONTAINER ID        IMAGE               COMMAND                  CREATED             STATUS                     PORTS               NAMES\r\n",
      "4714a1555e88        postgres            \"/docker-entrypoint.s\"   2 minutes ago       Up About a minute          5432/tcp            mydb\r\n",
      "7edede8a4638        ubuntu:15.10        \"ls /\"                   2 minutes ago       Exited (0) 2 minutes ago                       gigantic_sinoussi\r\n"
     ]
    }
   ],
   "source": [
    "! docker ps -a"
   ]
  },
  {
   "cell_type": "markdown",
   "metadata": {
    "slideshow": {
     "slide_type": "subslide"
    }
   },
   "source": [
    "## Docker Networking\n",
    "\n",
    "Un esempio di come le cose evolvono"
   ]
  },
  {
   "cell_type": "markdown",
   "metadata": {
    "slideshow": {
     "slide_type": "subslide"
    }
   },
   "source": [
    "Specificare manualmente il link tra due container"
   ]
  },
  {
   "cell_type": "code",
   "execution_count": 11,
   "metadata": {
    "collapsed": false,
    "slideshow": {
     "slide_type": "subslide"
    }
   },
   "outputs": [
    {
     "name": "stdout",
     "output_type": "stream",
     "text": [
      "docker: Error response from daemon: Could not get container for mydb2.\r\n",
      "See 'docker run --help'.\r\n"
     ]
    }
   ],
   "source": [
    "! docker run -it --link mydb2:server -e PGPASSWORD=mypass postgres \\\n",
    "    psql \\\n",
    "    -h server \\\n",
    "    -U paulie \\\n",
    "    -d justadb \\\n",
    "    -c '\\l' #list databases"
   ]
  },
  {
   "cell_type": "code",
   "execution_count": 12,
   "metadata": {
    "collapsed": false,
    "slideshow": {
     "slide_type": "subslide"
    }
   },
   "outputs": [
    {
     "name": "stdout",
     "output_type": "stream",
     "text": [
      "docker: Error response from daemon: Could not get container for idontexist.\r\n",
      "See 'docker run --help'.\r\n"
     ]
    }
   ],
   "source": [
    "! docker run -it --link idontexist:linked ubuntu:15.10 bash"
   ]
  },
  {
   "cell_type": "markdown",
   "metadata": {
    "slideshow": {
     "slide_type": "subslide"
    }
   },
   "source": [
    "Nuova modalità (dalla versione 1.9+): crea e gestisci le reti"
   ]
  },
  {
   "cell_type": "code",
   "execution_count": 13,
   "metadata": {
    "collapsed": false,
    "slideshow": {
     "slide_type": "fragment"
    }
   },
   "outputs": [
    {
     "name": "stdout",
     "output_type": "stream",
     "text": [
      "ebf87fb95a36cd49c9d38d11821e86f67f6558a24c28e7a78120eb1969f8ff3f\r\n"
     ]
    }
   ],
   "source": [
    "! docker network create --driver=bridge mynet"
   ]
  },
  {
   "cell_type": "code",
   "execution_count": 14,
   "metadata": {
    "collapsed": false,
    "slideshow": {
     "slide_type": "fragment"
    }
   },
   "outputs": [
    {
     "name": "stdout",
     "output_type": "stream",
     "text": [
      "e869f67e96b73e176dd626460bbbb72083b9c21c4b100036c3385c04b61c9f69\r\n"
     ]
    }
   ],
   "source": [
    "! docker run -d -p 80:80 --net=mynet clue/adminer"
   ]
  },
  {
   "cell_type": "markdown",
   "metadata": {
    "slideshow": {
     "slide_type": "fragment"
    }
   },
   "source": [
    "Now go to [localhost](http://local.docker)"
   ]
  },
  {
   "cell_type": "code",
   "execution_count": 15,
   "metadata": {
    "collapsed": false,
    "slideshow": {
     "slide_type": "subslide"
    }
   },
   "outputs": [
    {
     "name": "stdout",
     "output_type": "stream",
     "text": [
      "e71862172bd8401e04ec13cdda95784980fef82a38fa753ec30e3f8e28777622\r\n"
     ]
    }
   ],
   "source": [
    "# Add a linked database on a running container (adminer)\n",
    "! docker run -d --name mydb2 \\\n",
    "    --net=mynet \\\n",
    "    -e POSTGRES_USER=paulie \\\n",
    "    -e POSTGRES_PASSWORD=mypass \\\n",
    "    -e POSTGRES_DB=justadb \\\n",
    "    postgres"
   ]
  },
  {
   "cell_type": "markdown",
   "metadata": {
    "slideshow": {
     "slide_type": "subslide"
    }
   },
   "source": [
    "## Docker images\n",
    "\n",
    "Quello che fanno i tuoi container"
   ]
  },
  {
   "cell_type": "code",
   "execution_count": 16,
   "metadata": {
    "collapsed": false,
    "slideshow": {
     "slide_type": "subslide"
    }
   },
   "outputs": [
    {
     "name": "stdout",
     "output_type": "stream",
     "text": [
      "Unable to find image 'alpine:latest' locally\n",
      "latest: Pulling from library/alpine\n",
      "\u001b[0B\n",
      "\u001b[1BDigest: sha256:9cacb71397b640eca97488cf08582ae4e4068513101088e9f96c9814bfda95e0\n",
      "Status: Downloaded newer image for alpine:latest\n",
      "BusyBox v1.24.1 (2015-12-16 08:00:02 GMT) multi-call binary.\n",
      "\n",
      "Usage: wget [-csq] [-O FILE] [-Y on/off] [-P DIR] [-U AGENT] [-T SEC] URL...\n",
      "\n",
      "Retrieve files via HTTP or FTP\n",
      "\n",
      "\t-s\tSpider mode - only check file existence\n",
      "\t-c\tContinue retrieval of aborted transfer\n",
      "\t-q\tQuiet\n",
      "\t-P DIR\tSave to DIR (default .)\n",
      "\t-T SEC\tNetwork read timeout is SEC seconds\n",
      "\t-O FILE\tSave to FILE ('-' for stdout)\n",
      "\t-U STR\tUse STR for User-Agent header\n",
      "\t-Y\tUse proxy ('on' or 'off')\n"
     ]
    }
   ],
   "source": [
    "! docker run -it alpine wget"
   ]
  },
  {
   "cell_type": "code",
   "execution_count": 17,
   "metadata": {
    "collapsed": false,
    "slideshow": {
     "slide_type": "subslide"
    }
   },
   "outputs": [
    {
     "name": "stdout",
     "output_type": "stream",
     "text": [
      "docker: Error response from daemon: Container command 'curl' not found or does not exist..\n"
     ]
    }
   ],
   "source": [
    "! docker run -it alpine curl"
   ]
  },
  {
   "cell_type": "markdown",
   "metadata": {
    "slideshow": {
     "slide_type": "subslide"
    }
   },
   "source": [
    "Costruire una propria immagine Docker è molto semplice"
   ]
  },
  {
   "cell_type": "code",
   "execution_count": 18,
   "metadata": {
    "collapsed": false,
    "slideshow": {
     "slide_type": "fragment"
    }
   },
   "outputs": [
    {
     "name": "stdout",
     "output_type": "stream",
     "text": [
      "Writing Dockerfile\n"
     ]
    }
   ],
   "source": [
    "%%writefile Dockerfile\n",
    "FROM alpine\n",
    "RUN apk update && apk upgrade\n",
    "RUN apk add curl"
   ]
  },
  {
   "cell_type": "code",
   "execution_count": 20,
   "metadata": {
    "collapsed": false,
    "slideshow": {
     "slide_type": "subslide"
    }
   },
   "outputs": [
    {
     "name": "stdout",
     "output_type": "stream",
     "text": [
      "Sending build context to Docker daemon  1.75 MB\n",
      "Step 1 : FROM alpine\n",
      " ---> d7a513a663c1\n",
      "Step 2 : RUN apk update && apk upgrade\n",
      " ---> Using cache\n",
      " ---> 1fac81fea832\n",
      "Step 3 : RUN apk add curl\n",
      " ---> Using cache\n",
      " ---> 65b2c1aaed36\n",
      "Successfully built 65b2c1aaed36\n"
     ]
    }
   ],
   "source": [
    "! docker build -t mydockerimage ."
   ]
  },
  {
   "cell_type": "code",
   "execution_count": 21,
   "metadata": {
    "collapsed": false,
    "slideshow": {
     "slide_type": "subslide"
    }
   },
   "outputs": [
    {
     "name": "stdout",
     "output_type": "stream",
     "text": [
      "REPOSITORY          TAG                 IMAGE ID            CREATED             SIZE\r\n",
      "mydockerimage       latest              65b2c1aaed36        28 seconds ago      8.092 MB\r\n",
      "clue/adminer        latest              dbf8cf7a7ca7        3 days ago          223.4 MB\r\n",
      "swarm               latest              0f1a3829719c        3 days ago          18.71 MB\r\n",
      "postgres            latest              0f3af79d8673        12 days ago         265.7 MB\r\n",
      "ubuntu              15.10               4e3b13c8a266        12 days ago         136.3 MB\r\n",
      "alpine              latest              d7a513a663c1        2 weeks ago         4.798 MB\r\n",
      "busybox             latest              47bcc53f74dc        4 weeks ago         1.113 MB\r\n"
     ]
    }
   ],
   "source": [
    "# Verifichiamo la nostra nuova immagine\n",
    "! docker images"
   ]
  },
  {
   "cell_type": "code",
   "execution_count": 22,
   "metadata": {
    "collapsed": false,
    "slideshow": {
     "slide_type": "subslide"
    }
   },
   "outputs": [
    {
     "name": "stdout",
     "output_type": "stream",
     "text": [
      "Usage: curl [options...] <url>\r\n",
      "Options: (H) means HTTP/HTTPS only, (F) means FTP only\r\n",
      "     --anyauth       Pick \"any\" authentication method (H)\r\n",
      " -a, --append        Append to target file when uploading (F/SFTP)\r\n",
      "     --basic         Use HTTP Basic Authentication (H)\r\n",
      "     --cacert FILE   CA certificate to verify peer against (SSL)\r\n",
      "     --capath DIR    CA directory to verify peer against (SSL)\r\n",
      " -E, --cert CERT[:PASSWD]  Client certificate file and password (SSL)\r\n",
      "     --cert-status   Verify the status of the server certificate (SSL)\r\n",
      "     --cert-type TYPE  Certificate file type (DER/PEM/ENG) (SSL)\r\n",
      "     --ciphers LIST  SSL ciphers to use (SSL)\r\n",
      "     --compressed    Request compressed response (using deflate or gzip)\r\n",
      " -K, --config FILE   Read config from FILE\r\n",
      "     --connect-timeout SECONDS  Maximum time allowed for connection\r\n",
      " -C, --continue-at OFFSET  Resumed transfer OFFSET\r\n",
      " -b, --cookie STRING/FILE  Read cookies from STRING/FILE (H)\r\n",
      " -c, --cookie-jar FILE  Write cookies to FILE after operation (H)\r\n",
      "     --create-dirs   Create necessary local directory hierarchy\r\n",
      "     --crlf          Convert LF to CRLF in upload\r\n",
      "     --crlfile FILE  Get a CRL list in PEM format from the given file\r\n",
      " -d, --data DATA     HTTP POST data (H)\r\n",
      "     --data-raw DATA  HTTP POST data, '@' allowed (H)\r\n",
      "     --data-ascii DATA  HTTP POST ASCII data (H)\r\n",
      "     --data-binary DATA  HTTP POST binary data (H)\r\n",
      "     --data-urlencode DATA  HTTP POST data url encoded (H)\r\n",
      "     --delegation STRING  GSS-API delegation permission\r\n",
      "     --digest        Use HTTP Digest Authentication (H)\r\n",
      "     --disable-eprt  Inhibit using EPRT or LPRT (F)\r\n",
      "     --disable-epsv  Inhibit using EPSV (F)\r\n",
      "     --dns-servers   DNS server addrs to use: 1.1.1.1;2.2.2.2\r\n",
      "     --dns-interface  Interface to use for DNS requests\r\n",
      "     --dns-ipv4-addr  IPv4 address to use for DNS requests, dot notation\r\n",
      "     --dns-ipv6-addr  IPv6 address to use for DNS requests, dot notation\r\n",
      " -D, --dump-header FILE  Write the headers to FILE\r\n",
      "     --egd-file FILE  EGD socket path for random data (SSL)\r\n",
      "     --engine ENGINE  Crypto engine (use \"--engine list\" for list) (SSL)\r\n",
      "     --expect100-timeout SECONDS How long to wait for 100-continue (H)\r\n",
      " -f, --fail          Fail silently (no output at all) on HTTP errors (H)\r\n",
      "     --false-start   Enable TLS False Start.\r\n",
      " -F, --form CONTENT  Specify HTTP multipart POST data (H)\r\n",
      "     --form-string STRING  Specify HTTP multipart POST data (H)\r\n",
      "     --ftp-account DATA  Account data string (F)\r\n",
      "     --ftp-alternative-to-user COMMAND  String to replace \"USER [name]\" (F)\r\n",
      "     --ftp-create-dirs  Create the remote dirs if not present (F)\r\n",
      "     --ftp-method [MULTICWD/NOCWD/SINGLECWD]  Control CWD usage (F)\r\n",
      "     --ftp-pasv      Use PASV/EPSV instead of PORT (F)\r\n",
      " -P, --ftp-port ADR  Use PORT with given address instead of PASV (F)\r\n",
      "     --ftp-skip-pasv-ip  Skip the IP address for PASV (F)\r\n",
      "     --ftp-pret      Send PRET before PASV (for drftpd) (F)\r\n",
      "     --ftp-ssl-ccc   Send CCC after authenticating (F)\r\n",
      "     --ftp-ssl-ccc-mode ACTIVE/PASSIVE  Set CCC mode (F)\r\n",
      "     --ftp-ssl-control  Require SSL/TLS for FTP login, clear for transfer (F)\r\n",
      " -G, --get           Send the -d data with a HTTP GET (H)\r\n",
      " -g, --globoff       Disable URL sequences and ranges using {} and []\r\n",
      " -H, --header LINE   Pass custom header LINE to server (H)\r\n",
      " -I, --head          Show document info only\r\n",
      " -h, --help          This help text\r\n",
      "     --hostpubmd5 MD5  Hex-encoded MD5 string of the host public key. (SSH)\r\n",
      " -0, --http1.0       Use HTTP 1.0 (H)\r\n",
      "     --http1.1       Use HTTP 1.1 (H)\r\n",
      "     --http2         Use HTTP 2 (H)\r\n",
      "     --ignore-content-length  Ignore the HTTP Content-Length header\r\n",
      " -i, --include       Include protocol headers in the output (H/F)\r\n",
      " -k, --insecure      Allow connections to SSL sites without certs (H)\r\n",
      "     --interface INTERFACE  Use network INTERFACE (or address)\r\n",
      " -4, --ipv4          Resolve name to IPv4 address\r\n",
      " -6, --ipv6          Resolve name to IPv6 address\r\n",
      " -j, --junk-session-cookies  Ignore session cookies read from file (H)\r\n",
      "     --keepalive-time SECONDS  Wait SECONDS between keepalive probes\r\n",
      "     --key KEY       Private key file name (SSL/SSH)\r\n",
      "     --key-type TYPE  Private key file type (DER/PEM/ENG) (SSL)\r\n",
      "     --krb LEVEL     Enable Kerberos with security LEVEL (F)\r\n",
      "     --libcurl FILE  Dump libcurl equivalent code of this command line\r\n",
      "     --limit-rate RATE  Limit transfer speed to RATE\r\n",
      " -l, --list-only     List only mode (F/POP3)\r\n",
      "     --local-port RANGE  Force use of RANGE for local port numbers\r\n",
      " -L, --location      Follow redirects (H)\r\n",
      "     --location-trusted  Like '--location', and send auth to other hosts (H)\r\n",
      "     --login-options OPTIONS  Server login options (IMAP, POP3, SMTP)\r\n",
      " -M, --manual        Display the full manual\r\n",
      "     --mail-from FROM  Mail from this address (SMTP)\r\n",
      "     --mail-rcpt TO  Mail to this/these addresses (SMTP)\r\n",
      "     --mail-auth AUTH  Originator address of the original email (SMTP)\r\n",
      "     --max-filesize BYTES  Maximum file size to download (H/F)\r\n",
      "     --max-redirs NUM  Maximum number of redirects allowed (H)\r\n",
      " -m, --max-time SECONDS  Maximum time allowed for the transfer\r\n",
      "     --metalink      Process given URLs as metalink XML file\r\n",
      "     --negotiate     Use HTTP Negotiate (SPNEGO) authentication (H)\r\n",
      " -n, --netrc         Must read .netrc for user name and password\r\n",
      "     --netrc-optional  Use either .netrc or URL; overrides -n\r\n",
      "     --netrc-file FILE  Specify FILE for netrc\r\n",
      " -:, --next          Allows the following URL to use a separate set of options\r\n",
      "     --no-alpn       Disable the ALPN TLS extension (H)\r\n",
      " -N, --no-buffer     Disable buffering of the output stream\r\n",
      "     --no-keepalive  Disable keepalive use on the connection\r\n",
      "     --no-npn        Disable the NPN TLS extension (H)\r\n",
      "     --no-sessionid  Disable SSL session-ID reusing (SSL)\r\n",
      "     --noproxy       List of hosts which do not use proxy\r\n",
      "     --ntlm          Use HTTP NTLM authentication (H)\r\n",
      "     --oauth2-bearer TOKEN  OAuth 2 Bearer Token (IMAP, POP3, SMTP)\r\n",
      " -o, --output FILE   Write to FILE instead of stdout\r\n",
      "     --pass PASS     Pass phrase for the private key (SSL/SSH)\r\n",
      "     --path-as-is    Do not squash .. sequences in URL path\r\n",
      "     --pinnedpubkey FILE/HASHES Public key to verify peer against (SSL)\r\n",
      "     --post301       Do not switch to GET after following a 301 redirect (H)\r\n",
      "     --post302       Do not switch to GET after following a 302 redirect (H)\r\n",
      "     --post303       Do not switch to GET after following a 303 redirect (H)\r\n",
      " -#, --progress-bar  Display transfer progress as a progress bar\r\n",
      "     --proto PROTOCOLS  Enable/disable PROTOCOLS\r\n",
      "     --proto-default PROTOCOL  Use PROTOCOL for any URL missing a scheme\r\n",
      "     --proto-redir PROTOCOLS   Enable/disable PROTOCOLS on redirect\r\n",
      " -x, --proxy [PROTOCOL://]HOST[:PORT]  Use proxy on given port\r\n",
      "     --proxy-anyauth  Pick \"any\" proxy authentication method (H)\r\n",
      "     --proxy-basic   Use Basic authentication on the proxy (H)\r\n",
      "     --proxy-digest  Use Digest authentication on the proxy (H)\r\n",
      "     --proxy-negotiate  Use HTTP Negotiate (SPNEGO) authentication on the proxy (H)\r\n",
      "     --proxy-ntlm    Use NTLM authentication on the proxy (H)\r\n",
      "     --proxy-service-name NAME  SPNEGO proxy service name\r\n",
      "     --service-name NAME  SPNEGO service name\r\n",
      " -U, --proxy-user USER[:PASSWORD]  Proxy user and password\r\n",
      "     --proxy1.0 HOST[:PORT]  Use HTTP/1.0 proxy on given port\r\n",
      " -p, --proxytunnel   Operate through a HTTP proxy tunnel (using CONNECT)\r\n",
      "     --pubkey KEY    Public key file name (SSH)\r\n",
      " -Q, --quote CMD     Send command(s) to server before transfer (F/SFTP)\r\n",
      "     --random-file FILE  File for reading random data from (SSL)\r\n",
      " -r, --range RANGE   Retrieve only the bytes within RANGE\r\n",
      "     --raw           Do HTTP \"raw\"; no transfer decoding (H)\r\n",
      " -e, --referer       Referer URL (H)\r\n",
      " -J, --remote-header-name  Use the header-provided filename (H)\r\n",
      " -O, --remote-name   Write output to a file named as the remote file\r\n",
      "     --remote-name-all  Use the remote file name for all URLs\r\n",
      " -R, --remote-time   Set the remote file's time on the local output\r\n",
      " -X, --request COMMAND  Specify request command to use\r\n",
      "     --resolve HOST:PORT:ADDRESS  Force resolve of HOST:PORT to ADDRESS\r\n",
      "     --retry NUM   Retry request NUM times if transient problems occur\r\n",
      "     --retry-delay SECONDS  Wait SECONDS between retries\r\n",
      "     --retry-max-time SECONDS  Retry only within this period\r\n",
      "     --sasl-ir       Enable initial response in SASL authentication\r\n",
      " -S, --show-error    Show error. With -s, make curl show errors when they occur\r\n",
      " -s, --silent        Silent mode (don't output anything)\r\n",
      "     --socks4 HOST[:PORT]  SOCKS4 proxy on given host + port\r\n",
      "     --socks4a HOST[:PORT]  SOCKS4a proxy on given host + port\r\n",
      "     --socks5 HOST[:PORT]  SOCKS5 proxy on given host + port\r\n",
      "     --socks5-hostname HOST[:PORT]  SOCKS5 proxy, pass host name to proxy\r\n",
      "     --socks5-gssapi-service NAME  SOCKS5 proxy service name for GSS-API\r\n",
      "     --socks5-gssapi-nec  Compatibility with NEC SOCKS5 server\r\n",
      " -Y, --speed-limit RATE  Stop transfers below RATE for 'speed-time' secs\r\n",
      " -y, --speed-time SECONDS  Trigger 'speed-limit' abort after SECONDS (default: 30)\r\n",
      "     --ssl           Try SSL/TLS (FTP, IMAP, POP3, SMTP)\r\n",
      "     --ssl-reqd      Require SSL/TLS (FTP, IMAP, POP3, SMTP)\r\n",
      " -2, --sslv2         Use SSLv2 (SSL)\r\n",
      " -3, --sslv3         Use SSLv3 (SSL)\r\n",
      "     --ssl-allow-beast  Allow security flaw to improve interop (SSL)\r\n",
      "     --ssl-no-revoke    Disable cert revocation checks (WinSSL)\r\n",
      "     --stderr FILE   Where to redirect stderr (use \"-\" for stdout)\r\n",
      "     --tcp-nodelay   Use the TCP_NODELAY option\r\n",
      " -t, --telnet-option OPT=VAL  Set telnet option\r\n",
      "     --tftp-blksize VALUE  Set TFTP BLKSIZE option (must be >512)\r\n",
      " -z, --time-cond TIME  Transfer based on a time condition\r\n",
      " -1, --tlsv1         Use >= TLSv1 (SSL)\r\n",
      "     --tlsv1.0       Use TLSv1.0 (SSL)\r\n",
      "     --tlsv1.1       Use TLSv1.1 (SSL)\r\n",
      "     --tlsv1.2       Use TLSv1.2 (SSL)\r\n",
      "     --trace FILE    Write a debug trace to FILE\r\n",
      "     --trace-ascii FILE  Like --trace, but without hex output\r\n",
      "     --trace-time    Add time stamps to trace/verbose output\r\n",
      "     --tr-encoding   Request compressed transfer encoding (H)\r\n",
      " -T, --upload-file FILE  Transfer FILE to destination\r\n",
      "     --url URL       URL to work with\r\n",
      " -B, --use-ascii     Use ASCII/text transfer\r\n",
      " -u, --user USER[:PASSWORD]  Server user and password\r\n",
      "     --tlsuser USER  TLS username\r\n",
      "     --tlspassword STRING  TLS password\r\n",
      "     --tlsauthtype STRING  TLS authentication type (default: SRP)\r\n",
      "     --unix-socket FILE    Connect through this Unix domain socket\r\n",
      " -A, --user-agent STRING  Send User-Agent STRING to server (H)\r\n",
      " -v, --verbose       Make the operation more talkative\r\n",
      " -V, --version       Show version number and quit\r\n",
      " -w, --write-out FORMAT  Use output FORMAT after completion\r\n",
      "     --xattr         Store metadata in extended file attributes\r\n",
      " -q                  Disable .curlrc (must be first parameter)\r\n"
     ]
    }
   ],
   "source": [
    "! docker run -it mydockerimage curl --help"
   ]
  },
  {
   "cell_type": "markdown",
   "metadata": {
    "slideshow": {
     "slide_type": "subslide"
    }
   },
   "source": [
    "Rendiamola disponibile nel registro pubblico delle immagini"
   ]
  },
  {
   "cell_type": "code",
   "execution_count": null,
   "metadata": {
    "collapsed": false,
    "slideshow": {
     "slide_type": "fragment"
    }
   },
   "outputs": [],
   "source": [
    "! docker push mydockerimage"
   ]
  },
  {
   "cell_type": "markdown",
   "metadata": {
    "slideshow": {
     "slide_type": "subslide"
    }
   },
   "source": [
    "Il registro ufficiale prende il nome di Hub:\n",
    "\n",
    "https://hub.docker.com/"
   ]
  },
  {
   "cell_type": "markdown",
   "metadata": {
    "slideshow": {
     "slide_type": "fragment"
    }
   },
   "source": [
    "(* un pò come il GitHub dei container Docker *)"
   ]
  },
  {
   "cell_type": "code",
   "execution_count": 23,
   "metadata": {
    "collapsed": false,
    "slideshow": {
     "slide_type": "subslide"
    }
   },
   "outputs": [
    {
     "name": "stdout",
     "output_type": "stream",
     "text": [
      "NAME                      DESCRIPTION                                     STARS     OFFICIAL   AUTOMATED\r\n",
      "nginx                     Official build of Nginx.                        2649      [OK]       \r\n",
      "jwilder/nginx-proxy       Automated Nginx reverse proxy for docker c...   589                  [OK]\r\n",
      "richarvey/nginx-php-fpm   Container running Nginx + PHP-FPM capable ...   177                  [OK]\r\n",
      "maxexcloo/nginx-php       Docker framework container with Nginx and ...   56                   [OK]\r\n",
      "million12/nginx-php       Nginx + PHP-FPM 5.5, 5.6, 7.0 (NG), CentOS...   55                   [OK]\r\n",
      "h3nrik/nginx-ldap         NGINX web server with LDAP/AD, SSL and pro...   25                   [OK]\r\n",
      "webdevops/php-nginx       Nginx with PHP-FPM                              19                   [OK]\r\n",
      "bitnami/nginx             Bitnami nginx Docker Image                      16                   [OK]\r\n"
     ]
    }
   ],
   "source": [
    "! docker search -s 10 nginx"
   ]
  },
  {
   "cell_type": "markdown",
   "metadata": {
    "slideshow": {
     "slide_type": "subslide"
    }
   },
   "source": [
    "- Le mie immagini:\n",
    "https://hub.docker.com/u/pdonorio/\n",
    "- CINECA:\n",
    "https://hub.docker.com/u/cineca/\n",
    "- EUDAT:\n",
    "https://hub.docker.com/u/eudatb2safe/"
   ]
  },
  {
   "cell_type": "markdown",
   "metadata": {
    "slideshow": {
     "slide_type": "subslide"
    }
   },
   "source": [
    "## Persistenza dei dati"
   ]
  },
  {
   "cell_type": "markdown",
   "metadata": {
    "slideshow": {
     "slide_type": "fragment"
    }
   },
   "source": [
    "I container perdono tutti i dati prodotti nel ciclo vitale, quando vengono rimossi."
   ]
  },
  {
   "cell_type": "code",
   "execution_count": 24,
   "metadata": {
    "collapsed": false,
    "slideshow": {
     "slide_type": "subslide"
    }
   },
   "outputs": [],
   "source": [
    "# Aggiungo un file\n",
    "! docker run --rm busybox touch /tmp/justatest"
   ]
  },
  {
   "cell_type": "code",
   "execution_count": 25,
   "metadata": {
    "collapsed": false,
    "slideshow": {
     "slide_type": "fragment"
    }
   },
   "outputs": [
    {
     "name": "stdout",
     "output_type": "stream",
     "text": [
      "ls: /tmp/*: No such file or directory\r\n"
     ]
    }
   ],
   "source": [
    "# Verifico cosa abbiamo nella directory adesso\n",
    "! docker run -it busybox sh -c \"ls /tmp/*\""
   ]
  },
  {
   "cell_type": "markdown",
   "metadata": {
    "slideshow": {
     "slide_type": "subslide"
    }
   },
   "source": [
    "Lanciamo un database in un container. Il container viene distrutto.\n",
    "\n",
    "I dati vengono perduti."
   ]
  },
  {
   "cell_type": "markdown",
   "metadata": {
    "slideshow": {
     "slide_type": "fragment"
    }
   },
   "source": [
    "Come possiamo risolvere?"
   ]
  },
  {
   "cell_type": "markdown",
   "metadata": {
    "slideshow": {
     "slide_type": "subslide"
    }
   },
   "source": [
    "```\n",
    "# A partire da Docker 1.9+\n",
    "docker volume COMMAND\n",
    "```"
   ]
  },
  {
   "cell_type": "code",
   "execution_count": 26,
   "metadata": {
    "collapsed": false,
    "slideshow": {
     "slide_type": "fragment"
    }
   },
   "outputs": [
    {
     "name": "stdout",
     "output_type": "stream",
     "text": [
      "DRIVER              VOLUME NAME\r\n",
      "local               27bd900873f8303339e9a15a823b9610110afb452c6efe019aed8650e10f0659\r\n",
      "local               5670df1187c72a4fbe03d038fa1f2416b6a1975f651bfe28eb36bf4802479174\r\n",
      "local               848ec5490fc5161742ead867a0863b1f921ece53fce38e10ca55dceb0af4c54c\r\n"
     ]
    }
   ],
   "source": [
    "! docker volume ls"
   ]
  },
  {
   "cell_type": "code",
   "execution_count": 27,
   "metadata": {
    "collapsed": true,
    "slideshow": {
     "slide_type": "fragment"
    }
   },
   "outputs": [],
   "source": [
    "! docker run -it \\\n",
    "    -v myvolume:/tmp \\\n",
    "    busybox touch /tmp/justatest"
   ]
  },
  {
   "cell_type": "code",
   "execution_count": 28,
   "metadata": {
    "collapsed": false,
    "slideshow": {
     "slide_type": "subslide"
    }
   },
   "outputs": [
    {
     "name": "stdout",
     "output_type": "stream",
     "text": [
      "DRIVER              VOLUME NAME\r\n",
      "local               27bd900873f8303339e9a15a823b9610110afb452c6efe019aed8650e10f0659\r\n",
      "local               5670df1187c72a4fbe03d038fa1f2416b6a1975f651bfe28eb36bf4802479174\r\n",
      "local               848ec5490fc5161742ead867a0863b1f921ece53fce38e10ca55dceb0af4c54c\r\n",
      "local               myvolume\r\n"
     ]
    }
   ],
   "source": [
    "! docker volume ls"
   ]
  },
  {
   "cell_type": "code",
   "execution_count": 29,
   "metadata": {
    "collapsed": false,
    "slideshow": {
     "slide_type": "fragment"
    }
   },
   "outputs": [
    {
     "name": "stdout",
     "output_type": "stream",
     "text": [
      "\u001b[0;0m/tmp/justatest\u001b[0m\r\n"
     ]
    }
   ],
   "source": [
    "! docker run -it \\\n",
    "    -v myvolume:/tmp \\\n",
    "    busybox sh -c \"ls /tmp/*\""
   ]
  },
  {
   "cell_type": "markdown",
   "metadata": {
    "slideshow": {
     "slide_type": "subslide"
    }
   },
   "source": [
    "Modalità di uso del volume\n",
    "\n",
    "- Utilizzare un directory del sistema `host` come volume\n",
    "- Avviare un `data-only-container` (e.s. comando vuoto). Tutti i suoi volumi possono essere condivisi da successivi container con l'opzione `volume-from`"
   ]
  },
  {
   "cell_type": "markdown",
   "metadata": {
    "slideshow": {
     "slide_type": "slide"
    }
   },
   "source": [
    "## Cronologia\n",
    "\n",
    "<div style=\"font-family: monospace;\">\n",
    "&nbsp;&nbsp;&nbsp;&nbsp;&nbsp;&nbsp;&nbsp; Me \n",
    "<br>\n",
    "2013/12 Corso Python\n",
    "<br>\n",
    "2014/01 Docker\n",
    "<br>\n",
    "2014/11 Anaconda &#8592;\n",
    "<br>\n",
    "2014/12 Jupyter\n",
    "<br>\n",
    "2015/04 Pycon6\n",
    "<br>\n",
    "2015/05 OpenStack\n",
    "<br>\n",
    "2015/12 Sviluppo del prototipo\n",
    "<br>\n",
    "2016/04 Pycon7\n",
    "<div>"
   ]
  },
  {
   "cell_type": "markdown",
   "metadata": {
    "slideshow": {
     "slide_type": "subslide"
    }
   },
   "source": [
    "\n",
    "### La nostra prima immagine Docker per un corso (Python)\n",
    "\n",
    "https://hub.docker.com/r/cineca/scientificpy/"
   ]
  },
  {
   "cell_type": "markdown",
   "metadata": {
    "slideshow": {
     "slide_type": "subslide"
    }
   },
   "source": [
    "```Dockerfile\n",
    "FROM ubuntu:14.04\n",
    "MAINTAINER Paolo D. <p.donoriodemeo@cineca.it>\n",
    "\n",
    "##########################\n",
    "# APT\n",
    "RUN apt-get update && apt-get upgrade -y && \\\n",
    "    apt-get install -y wget curl build-essential python-dev \\\n",
    "    && apt-get clean\n",
    "```"
   ]
  },
  {
   "cell_type": "markdown",
   "metadata": {
    "slideshow": {
     "slide_type": "subslide"
    }
   },
   "source": [
    "```Dockerfile\n",
    "##########################\n",
    "# (mini)CONDA package manager\n",
    "RUN wget --quiet \\\n",
    "    https://repo.continuum.io/miniconda/Miniconda-latest-Linux-x86_64.sh && \\\n",
    "    bash Miniconda-latest-Linux-x86_64.sh -b -p /opt/miniconda && \\\n",
    "    rm Miniconda-latest-Linux-x86_64.sh\n",
    "ENV PATH /opt/miniconda/bin:$PATH\n",
    "RUN chmod -R a+rx /opt/miniconda\n",
    "```"
   ]
  },
  {
   "cell_type": "markdown",
   "metadata": {
    "slideshow": {
     "slide_type": "subslide"
    }
   },
   "source": [
    "```Dockerfile\n",
    "\n",
    "##########################\n",
    "# Install PyData modules and IPython dependencies\n",
    "RUN conda update --quiet --yes conda && \\\n",
    "    conda install --quiet --yes ipython \\\n",
    "        numpy scipy pandas matplotlib seaborn bokeh scikit-learn sympy \\\n",
    "        six pip sqlalchemy cython pyzmq statsmodels \\\n",
    "    && conda clean -y -t\n",
    "\n",
    "```"
   ]
  },
  {
   "cell_type": "markdown",
   "metadata": {
    "slideshow": {
     "slide_type": "subslide"
    }
   },
   "source": [
    "```Dockerfile\n",
    "#####################################\n",
    "# Setup and start notebook server\n",
    "VOLUME /data\n",
    "WORKDIR /data\n",
    "CMD ipython notebook --ip=0.0.0.0 --port=8000 --no-browser\n",
    "```"
   ]
  },
  {
   "cell_type": "markdown",
   "metadata": {
    "slideshow": {
     "slide_type": "subslide"
    }
   },
   "source": [
    "## The good\n",
    "\n",
    "- Possibilità di replicare l'ambiente di esercitazione a casa"
   ]
  },
  {
   "cell_type": "markdown",
   "metadata": {
    "slideshow": {
     "slide_type": "fragment"
    }
   },
   "source": [
    "## The bad\n",
    "\n",
    "- Il tempo passato a spiegare come usare Docker"
   ]
  },
  {
   "cell_type": "markdown",
   "metadata": {
    "slideshow": {
     "slide_type": "fragment"
    }
   },
   "source": [
    "## The ugly\n",
    "- Copia/incolla di comandi non molto chiari (e.g. rimuovi tutti i containers)"
   ]
  },
  {
   "cell_type": "markdown",
   "metadata": {
    "slideshow": {
     "slide_type": "slide"
    }
   },
   "source": [
    "## Cronologia\n",
    "\n",
    "<div style=\"font-family: monospace;\">\n",
    "&nbsp;&nbsp;&nbsp;&nbsp;&nbsp;&nbsp;&nbsp; Me \n",
    "<br>\n",
    "2013/12 Corso Python\n",
    "<br>\n",
    "2014/01 Docker \n",
    "<br>\n",
    "2014/11 Anaconda\n",
    "<br>\n",
    "2014/12 Jupyter &#8592;\n",
    "<br>\n",
    "2015/04 Pycon6\n",
    "<br>\n",
    "2015/05 OpenStack\n",
    "<br>\n",
    "2015/12 Sviluppo del prototipo\n",
    "<br>\n",
    "2016/04 Pycon7\n",
    "<div>"
   ]
  },
  {
   "cell_type": "markdown",
   "metadata": {
    "slideshow": {
     "slide_type": "subslide"
    }
   },
   "source": [
    "[Project Jupyter](http://jupyter.org/) è nato ufficialmente nel 2014, come strumento dedicato esplicitamente ai servizi di Notebook agnostici del precedente progetto Ipthon."
   ]
  },
  {
   "cell_type": "markdown",
   "metadata": {
    "slideshow": {
     "slide_type": "subslide"
    }
   },
   "source": [
    "<img src='images/jupy.png'>"
   ]
  },
  {
   "cell_type": "markdown",
   "metadata": {
    "slideshow": {
     "slide_type": "skip"
    }
   },
   "source": [
    "<small> Per saperne di più:\n",
    "\n",
    "https://en.wikipedia.org/wiki/IPython#Project_Jupyter</small>"
   ]
  },
  {
   "cell_type": "markdown",
   "metadata": {
    "slideshow": {
     "slide_type": "subslide"
    }
   },
   "source": [
    "Il progetto ha un repository GitHub dedicato alle immagini Docker:\n",
    "\n",
    "https://github.com/jupyter/docker-stacks"
   ]
  },
  {
   "cell_type": "markdown",
   "metadata": {
    "slideshow": {
     "slide_type": "subslide"
    }
   },
   "source": [
    "GitHub CINECA (SCAI) lectures:\n",
    "\n",
    "https://github.com/cineca-scai/lectures"
   ]
  },
  {
   "cell_type": "markdown",
   "metadata": {
    "slideshow": {
     "slide_type": "subslide"
    }
   },
   "source": [
    "Slideshow dal vivo:\n",
    "\n",
    "(RISE plugin)"
   ]
  },
  {
   "cell_type": "markdown",
   "metadata": {
    "slideshow": {
     "slide_type": "fragment"
    }
   },
   "source": [
    "```Dockerfile\n",
    "# Live slideshows\n",
    "WORKDIR /tmp\n",
    "RUN wget https://github.com/pdonorio/RISE/archive/master.tar.gz \\\n",
    "    && tar xvzf *.gz && cd *master && \\\n",
    "    python2 setup.py install && rm -rf /tmp/*\n",
    "```"
   ]
  },
  {
   "cell_type": "markdown",
   "metadata": {
    "slideshow": {
     "slide_type": "fragment"
    }
   },
   "source": [
    "Questa 'ricetta' la trovate nell wiki ufficiale per Docker del progetto Jupyter:\n",
    "\n",
    "https://github.com/jupyter/docker-stacks/wiki/Docker-Recipes"
   ]
  },
  {
   "cell_type": "markdown",
   "metadata": {
    "slideshow": {
     "slide_type": "subslide"
    }
   },
   "source": [
    "Hub docker cineca e aggiornamento (facile) delle versioni nelle immagini:\n",
    "\n",
    "https://hub.docker.com/u/cineca/"
   ]
  },
  {
   "cell_type": "markdown",
   "metadata": {
    "slideshow": {
     "slide_type": "subslide"
    }
   },
   "source": [
    "MapReduce, Hadoop, Spark\n",
    "\n",
    "(e immagine docker con cluster hadoop)\n",
    "\n",
    "https://hub.docker.com/r/cineca/nbsparkling/~/dockerfile/"
   ]
  },
  {
   "cell_type": "markdown",
   "metadata": {
    "slideshow": {
     "slide_type": "fragment"
    }
   },
   "source": [
    "```bash\n",
    "docker run -d \\\n",
    "    --name notebook \\\n",
    "    -e LECTURE_BRANCH=datanalytics \\\n",
    "    -e LECTURE_PATH=material \\\n",
    "    -h notebook\n",
    "    -v myvolume:/data/lectures \\\n",
    "    -p 80:8888 \\\n",
    "    cineca/nbsparkling\n",
    "```"
   ]
  },
  {
   "cell_type": "markdown",
   "metadata": {
    "slideshow": {
     "slide_type": "slide"
    }
   },
   "source": [
    "## Cronologia\n",
    "\n",
    "<div style=\"font-family: monospace;\">\n",
    "&nbsp;&nbsp;&nbsp;&nbsp;&nbsp;&nbsp;&nbsp; Me \n",
    "<br>\n",
    "2013/12 Corso Python\n",
    "<br>\n",
    "2014/01 Docker \n",
    "<br>\n",
    "2014/11 Anaconda\n",
    "<br>\n",
    "2014/12 Jupyter \n",
    "<br>\n",
    "2015/04 Pycon6 &#8592;\n",
    "<br>\n",
    "2015/05 OpenStack\n",
    "<br>\n",
    "2015/12 Sviluppo del prototipo\n",
    "<br>\n",
    "2016/04 Pycon7\n",
    "<div>"
   ]
  },
  {
   "cell_type": "markdown",
   "metadata": {
    "slideshow": {
     "slide_type": "subslide"
    }
   },
   "source": [
    "## L'ispirazione per questo talk"
   ]
  },
  {
   "cell_type": "markdown",
   "metadata": {
    "slideshow": {
     "slide_type": "fragment"
    }
   },
   "source": [
    "<img src='images/tweet.png' width=700>"
   ]
  },
  {
   "cell_type": "markdown",
   "metadata": {
    "slideshow": {
     "slide_type": "skip"
    }
   },
   "source": [
    "https://twitter.com/paolodonorio/status/589834889974919168\n",
    "    "
   ]
  },
  {
   "cell_type": "markdown",
   "metadata": {
    "slideshow": {
     "slide_type": "subslide"
    }
   },
   "source": [
    "# Un cluster volatile di applicazioni\n",
    "Container *on demand* ovunque"
   ]
  },
  {
   "cell_type": "markdown",
   "metadata": {
    "slideshow": {
     "slide_type": "subslide"
    }
   },
   "source": [
    "<img src=\"https://technologyconversations.files.wordpress.com/2015/11/docker-swarm.png\" width=300>"
   ]
  },
  {
   "cell_type": "markdown",
   "metadata": {
    "slideshow": {
     "slide_type": "subslide"
    }
   },
   "source": [
    "Lo *sciame*\n",
    "\n",
    "> swarm, cluster, hive"
   ]
  },
  {
   "cell_type": "markdown",
   "metadata": {
    "slideshow": {
     "slide_type": "subslide"
    }
   },
   "source": [
    "N.B. il docker engine di default non ascolta richieste dall'esterno del nodo"
   ]
  },
  {
   "cell_type": "markdown",
   "metadata": {
    "slideshow": {
     "slide_type": "fragment"
    }
   },
   "source": [
    "> By default, it will listen on unix:///var/run/docker.sock to allow only local connections by the root user. "
   ]
  },
  {
   "cell_type": "markdown",
   "metadata": {
    "slideshow": {
     "slide_type": "fragment"
    }
   },
   "source": [
    "> You could set it to 0.0.0.0:2375 or a specific host IP to give access to everybody"
   ]
  },
  {
   "cell_type": "markdown",
   "metadata": {
    "slideshow": {
     "slide_type": "subslide"
    }
   },
   "source": [
    "## Passo 0\n",
    "\n",
    "Riavviare il Docker engine dei nodi che parteciperanno allo swarm per consentire l'accesso dall'esterno\n",
    "\n"
   ]
  },
  {
   "cell_type": "markdown",
   "metadata": {},
   "source": [
    "*Suggerimento:* \n",
    "\n",
    "usare certificati TLS per garantire la sicurezza nell'accesso alle remote API di Docker\n",
    "\n",
    "o in alternativa consentire l'accesso alle porte dell'engine soltanto dai nodi dello swarm"
   ]
  },
  {
   "cell_type": "markdown",
   "metadata": {
    "slideshow": {
     "slide_type": "subslide"
    }
   },
   "source": [
    "## Passo 1\n",
    "\n",
    "Per avviare uno *sciame* di container su più nodi, è necessario un **token**."
   ]
  },
  {
   "cell_type": "markdown",
   "metadata": {
    "slideshow": {
     "slide_type": "fragment"
    }
   },
   "source": [
    "```bash\n",
    "$ docker run swarm create\n",
    "7bbca2c4c83c32b8d9b5e501f9699d50\n",
    "\n",
    "# Il nostro identificativo per il cluster \n",
    "```"
   ]
  },
  {
   "cell_type": "markdown",
   "metadata": {
    "slideshow": {
     "slide_type": "subslide"
    }
   },
   "source": [
    "## Passo 2\n",
    "\n",
    "Un nodo con un Docker engine deve segnalare di voler essere lo *swarm manager*.\n",
    "\n",
    "Si mette in ascolto su una porta prescelta."
   ]
  },
  {
   "cell_type": "markdown",
   "metadata": {
    "slideshow": {
     "slide_type": "fragment"
    }
   },
   "source": [
    "```bash\n",
    "docker run -d -t \\\n",
    "    swarm manage -H 0.0.0.0:3376 \\\n",
    "    -p 3376:3376\n",
    "    # --tlsverify --tlscacert=/certs/ca.pem \\\n",
    "    # --tlscert=/certs/server.pem --tlskey=/certs/server-key.pem \\\n",
    "    token://7bbca2c4c83c32b8d9b5e501f9699d50\n",
    "```"
   ]
  },
  {
   "cell_type": "markdown",
   "metadata": {
    "slideshow": {
     "slide_type": "subslide"
    }
   },
   "source": [
    "## Passo 3\n",
    "\n",
    "Gli altri nodi che vogliamo far partecipare al cluster di container segnalano al manager di essere slave per quel token."
   ]
  },
  {
   "cell_type": "markdown",
   "metadata": {
    "slideshow": {
     "slide_type": "fragment"
    }
   },
   "source": [
    "```bash\n",
    "$ docker run -d \\\n",
    "    swarm join \\\n",
    "    --addr=NODE_IP_SWARM_MANAGER:3376 token://7bbca2c4c83c32b8d9b5e501f9699d50\n",
    "```"
   ]
  },
  {
   "cell_type": "markdown",
   "metadata": {
    "slideshow": {
     "slide_type": "subslide"
    }
   },
   "source": [
    "## Passo 4\n",
    "\n",
    "Fare uso del nuovo swarm con comandi analoghi a quelli per singolo nodo."
   ]
  },
  {
   "cell_type": "markdown",
   "metadata": {
    "slideshow": {
     "slide_type": "fragment"
    }
   },
   "source": [
    "```bash\n",
    "# Utilizzando il nome dell'ip e porta del manager, \n",
    "# possiamo accedere al cluster come se fosse un unico *Docker engine* !\n",
    "$ docker -H tcp://NODE_IP_SWARM_MANAGER:3376 ps\n",
    "```"
   ]
  },
  {
   "cell_type": "markdown",
   "metadata": {
    "slideshow": {
     "slide_type": "subslide"
    }
   },
   "source": [
    "<center>\n",
    "<img src=\"https://sreeninet.files.wordpress.com/2015/05/docker6.png\" width=800>\n",
    "</center>"
   ]
  },
  {
   "cell_type": "markdown",
   "metadata": {
    "slideshow": {
     "slide_type": "subslide"
    }
   },
   "source": [
    "Swarm 1.0, pronto per la produzione da novembre 2015"
   ]
  },
  {
   "cell_type": "markdown",
   "metadata": {
    "slideshow": {
     "slide_type": "slide"
    }
   },
   "source": [
    "## Cronologia\n",
    "\n",
    "<div style=\"font-family: monospace;\">\n",
    "&nbsp;&nbsp;&nbsp;&nbsp;&nbsp;&nbsp;&nbsp; Me \n",
    "<br>\n",
    "2013/12 Corso Python\n",
    "<br>\n",
    "2014/01 Docker \n",
    "<br>\n",
    "2014/11 Anaconda\n",
    "<br>\n",
    "2014/12 Jupyter \n",
    "<br>\n",
    "2015/04 Pycon6\n",
    "<br>\n",
    "2015/05 OpenStack &#8592;\n",
    "<br>\n",
    "2015/12 Sviluppo del prototipo\n",
    "<br>\n",
    "2016/04 Pycon7\n",
    "<div>"
   ]
  },
  {
   "cell_type": "markdown",
   "metadata": {
    "slideshow": {
     "slide_type": "subslide"
    }
   },
   "source": [
    "## Press release su apertura ufficiale PICO\n",
    "\n",
    "28 ottobre 2014\n",
    "\n",
    "http://www.cineca.it/it/news/pico-cineca-la-nuova-piattaforma-applicazioni-di-data-analytics"
   ]
  },
  {
   "cell_type": "markdown",
   "metadata": {
    "slideshow": {
     "slide_type": "fragment"
    }
   },
   "source": [
    "cit: http://www.hpc.cineca.it/hardware/pico\n",
    "\n",
    "> It is intended to enable new \"BigData\" classes of applications, related to the management and processing of large quantities of data, coming both from simulations and experiments. \n",
    "\n",
    "> Particular reference is put on all emerging scenarios as interactive model , as well as new paradigms of resource utilization through \"Cloud Computing\" technology"
   ]
  },
  {
   "cell_type": "markdown",
   "metadata": {
    "slideshow": {
     "slide_type": "subslide"
    }
   },
   "source": [
    "## [Openstack](https://www.openstack.org/)\n",
    "\n",
    "(Cloud computing *infrastructure-as-a-service*, **IaaS**)\n",
    "\n",
    "è la tecnologia utilizzata su PICO per fornire accesso alle risorse dedicate."
   ]
  },
  {
   "cell_type": "markdown",
   "metadata": {
    "slideshow": {
     "slide_type": "fragment"
    }
   },
   "source": [
    "> Providing infrastructure means that OpenStack makes it easy for users to quickly add new instance"
   ]
  },
  {
   "cell_type": "markdown",
   "metadata": {},
   "source": [
    "> Typically, the infrastructure then runs a \"platform\" upon which a developer can create software applications which are delivered to the end users."
   ]
  },
  {
   "cell_type": "markdown",
   "metadata": {
    "slideshow": {
     "slide_type": "subslide"
    }
   },
   "source": [
    "<img src='https://www.scaleuptech.com/de/wp-content/uploads/2016/02/software_diagram_os.png'>"
   ]
  },
  {
   "cell_type": "markdown",
   "metadata": {
    "slideshow": {
     "slide_type": "subslide"
    }
   },
   "source": [
    "```bash\n",
    "# Lanciare una nuova Virtual Machine con le API di Nova nel servizio di calcolo di Openstack\n",
    "\n",
    "$ nova boot --image imageID --flavor flavorID\n",
    "```"
   ]
  },
  {
   "cell_type": "markdown",
   "metadata": {
    "slideshow": {
     "slide_type": "subslide"
    }
   },
   "source": [
    "Ma se volessi lanciare container su una nuova VM di Openstack?"
   ]
  },
  {
   "cell_type": "markdown",
   "metadata": {
    "slideshow": {
     "slide_type": "fragment"
    }
   },
   "source": [
    "Un *telecomando* per accendere un nodo Docker su qualsiasi cloud:\n",
    "\n",
    "**Docker Machine**"
   ]
  },
  {
   "cell_type": "markdown",
   "metadata": {
    "slideshow": {
     "slide_type": "subslide"
    }
   },
   "source": [
    "```bash\n",
    "$ docker-machine create \\\n",
    "     --driver openstack \\\n",
    "     --openstack-ssh-user ubuntu \\\n",
    "     --openstack-image-id cfb0a24a-16a5-4d19-a15b-ee29c9375d52 \\\n",
    "     --openstack-flavor-name m1.small \\\n",
    "     --openstack-floatingip-pool public \\\n",
    "     --openstack-sec-groups default \\\n",
    "     my-openstack-vm-for-docker\n",
    " \n",
    "# my-openstack-vm-for-docker sarà una VM nuova \n",
    "# che ha il docker engine installato e avviato\n",
    " \n",
    "# Nota: necessita credenziali di accesso valide \n",
    "# in 'tenant' di OS che ha abbastanza risorse\n",
    "\n",
    "```"
   ]
  },
  {
   "cell_type": "markdown",
   "metadata": {
    "slideshow": {
     "slide_type": "subslide"
    }
   },
   "source": [
    "```bash\n",
    "# Accesso dal docker client locale \n",
    "# al docker engine remoto creato con docker machine\n",
    "\n",
    "$ eval \"$(docker-machine env my-openstack-vm-for-docker)\"\n",
    "```"
   ]
  },
  {
   "cell_type": "markdown",
   "metadata": {
    "slideshow": {
     "slide_type": "fragment"
    }
   },
   "source": [
    "<img src='https://docs.docker.com/machine/img/provision-use-case.png'>"
   ]
  },
  {
   "cell_type": "markdown",
   "metadata": {
    "slideshow": {
     "slide_type": "subslide"
    }
   },
   "source": [
    "N.B. grazie a *docker machine* possiamo usare un cloud qualsiasi:\n",
    "    \n",
    "virtualbox, openstack, aws, google cloud, azure, etc."
   ]
  },
  {
   "cell_type": "markdown",
   "metadata": {
    "slideshow": {
     "slide_type": "fragment"
    }
   },
   "source": [
    "<img src=\"http://www.extraordy.com/wp-content/uploads/2016/02/docker-machine_w_450.png\">"
   ]
  },
  {
   "cell_type": "markdown",
   "metadata": {
    "slideshow": {
     "slide_type": "slide"
    }
   },
   "source": [
    "## Cronologia\n",
    "\n",
    "<div style=\"font-family: monospace;\">\n",
    "&nbsp;&nbsp;&nbsp;&nbsp;&nbsp;&nbsp;&nbsp; Me \n",
    "<br>\n",
    "2013/12 Corso Python\n",
    "<br>\n",
    "2014/01 Docker \n",
    "<br>\n",
    "2014/11 Anaconda\n",
    "<br>\n",
    "2014/12 Jupyter \n",
    "<br>\n",
    "2015/04 Pycon6\n",
    "<br>\n",
    "2015/05 OpenStack \n",
    "<br>\n",
    "2015/12 Sviluppo del prototipo &#8592;\n",
    "<br>\n",
    "2016/04 Pycon7\n",
    "<div>"
   ]
  },
  {
   "cell_type": "markdown",
   "metadata": {
    "slideshow": {
     "slide_type": "subslide"
    }
   },
   "source": [
    "# Dicembre 2015"
   ]
  },
  {
   "cell_type": "markdown",
   "metadata": {
    "slideshow": {
     "slide_type": "subslide"
    }
   },
   "source": [
    "<img src=\"https://blotterpaper.files.wordpress.com/2013/02/working-hard.jpg\">"
   ]
  },
  {
   "cell_type": "markdown",
   "metadata": {
    "slideshow": {
     "slide_type": "subslide"
    }
   },
   "source": [
    "<img src=\"http://cliparts101.com/files/791/0550A29FE5645D58F3EFFC50905A4EE3/Computer_Exploding.png\">"
   ]
  },
  {
   "cell_type": "markdown",
   "metadata": {
    "slideshow": {
     "slide_type": "subslide"
    }
   },
   "source": [
    "<img src=\"http://www.clipartbest.com/cliparts/9i4/ny9/9i4ny9xiE.jpeg\">"
   ]
  },
  {
   "cell_type": "markdown",
   "metadata": {
    "slideshow": {
     "slide_type": "subslide"
    }
   },
   "source": [
    "<img src=\"http://assets4.bigthink.com/system/idea_thumbnails/59699/primary/working_late.jpg?1441892760\">"
   ]
  },
  {
   "cell_type": "markdown",
   "metadata": {
    "slideshow": {
     "slide_type": "subslide"
    }
   },
   "source": [
    "https://github.com/pdonorio/cloudscale"
   ]
  },
  {
   "cell_type": "markdown",
   "metadata": {
    "slideshow": {
     "slide_type": "subslide"
    }
   },
   "source": [
    "# Cosa è accaduto in due settimane"
   ]
  },
  {
   "cell_type": "markdown",
   "metadata": {
    "slideshow": {
     "slide_type": "subslide"
    }
   },
   "source": [
    "### Problema: il prossimo corso\n",
    "\n",
    "- Creare in maniera automatica un Docker swarm su un numero variabili di nodi\n",
    "- Creare in maniera automatica un container per studente con immagine custom su Jupyter"
   ]
  },
  {
   "cell_type": "markdown",
   "metadata": {
    "slideshow": {
     "slide_type": "subslide"
    }
   },
   "source": [
    "### Algoritmo nella mia testa"
   ]
  },
  {
   "cell_type": "markdown",
   "metadata": {
    "slideshow": {
     "slide_type": "subslide"
    }
   },
   "source": [
    "\n",
    "```\n",
    "N = numero nodi necessari\n",
    "S = numero di studenti\n",
    "P = numero di porte (consecutive) da aprire \n",
    "    nelle regole di sicurezza di openstack\n",
    "```"
   ]
  },
  {
   "cell_type": "markdown",
   "metadata": {
    "slideshow": {
     "slide_type": "subslide"
    }
   },
   "source": [
    "- Tramite Python avviare N volte docker-machine verso openstack Cineca\n",
    "- Creare un token swarm\n",
    "- Connettersi al primo nodo, riavviare Docker engine, diventare manager dello swarm\n",
    "- Connettersi agli altri nodi, riavviare Docker engine, aggiungersi come slave dello swarm\n",
    "- Minimizzare numero di porte da aprire su firewall\n",
    "    - partiamo da un porta prefissata Pfix = 4000\n",
    "    - `P = ceil(int(S / N))`\n",
    "- FOR Pcurrent range(Pfix + P):\n",
    "    - avviare container sulla porta pubblica Pcurrent"
   ]
  },
  {
   "cell_type": "markdown",
   "metadata": {
    "slideshow": {
     "slide_type": "subslide"
    }
   },
   "source": [
    "Fabric\n",
    "\n",
    "http://www.fabfile.org/\n",
    "\n",
    "> Fabric is a Python (2.5-2.7) library and command-line tool for streamlining the use of SSH for application deployment or systems administration tasks."
   ]
  },
  {
   "cell_type": "markdown",
   "metadata": {
    "slideshow": {
     "slide_type": "fragment"
    }
   },
   "source": [
    "Non va bene perché non supporta Python 3"
   ]
  },
  {
   "cell_type": "markdown",
   "metadata": {
    "slideshow": {
     "slide_type": "subslide"
    }
   },
   "source": [
    "Paramiko\n",
    "\n",
    "http://www.paramiko.org/\n",
    "\n",
    "> Paramiko is a Python (2.6+, 3.3+) implementation of the SSHv2 protocol [1], providing both client and server functionality."
   ]
  },
  {
   "cell_type": "markdown",
   "metadata": {
    "slideshow": {
     "slide_type": "subslide"
    }
   },
   "source": [
    "Plumbum\n",
    "\n",
    "https://plumbum.readthedocs.org/en/latest/\n",
    "\n",
    "> Apart from shell-like syntax and handy shortcuts, the library provides local and remote command execution (over SSH), local and remote file-system paths, easy working-directory and environment manipulation, quick access to ANSI colors, and a programmatic Command-Line Interface (CLI) "
   ]
  },
  {
   "cell_type": "markdown",
   "metadata": {
    "slideshow": {
     "slide_type": "fragment"
    }
   },
   "source": [
    "> Remote commands (over SSH):\n",
    "\n",
    "> Supports openSSH-compatible clients, PuTTY (on Windows) and Paramiko (a pure-Python implementation of SSH2)"
   ]
  },
  {
   "cell_type": "code",
   "execution_count": 1,
   "metadata": {
    "collapsed": false,
    "slideshow": {
     "slide_type": "subslide"
    }
   },
   "outputs": [
    {
     "data": {
      "text/plain": [
       "['DonorioCineca_Pycon7Talk-2016_04_17.ipynb', 'images', '']"
      ]
     },
     "execution_count": 1,
     "metadata": {},
     "output_type": "execute_result"
    }
   ],
   "source": [
    "from plumbum.cmd import ls\n",
    "ls().split(\"\\n\")"
   ]
  },
  {
   "cell_type": "markdown",
   "metadata": {
    "slideshow": {
     "slide_type": "subslide"
    }
   },
   "source": [
    "Invoke\n",
    "\n",
    "http://www.pyinvoke.org/\n",
    "\n",
    "> Invoke is a Python (2.6+ and 3.3+) task execution tool & library, drawing inspiration from various sources to arrive at a powerful & clean feature set."
   ]
  },
  {
   "cell_type": "code",
   "execution_count": 2,
   "metadata": {
    "collapsed": false,
    "slideshow": {
     "slide_type": "subslide"
    }
   },
   "outputs": [
    {
     "name": "stdout",
     "output_type": "stream",
     "text": [
      "Available tasks:\n",
      "\n",
      "  com_containers     Execute a command on all running containers of your swarm\n",
      "                     cluster\n",
      "  com_node           Execute a command on all running nodes of one driver\n",
      "  containers_reset   List all machine with a driver, and clean up their\n",
      "                     containers\n",
      "  driver_reset       Remove PERMANENTLY all machine within a driver class\n",
      "  machine_new        A task to add a docker machine - on virtualbox\n",
      "  machine_rm         A task to remove an existing machine - on virtualbox\n",
      "  remote_com         Execute command to host via pythonic ssh (auth: password\n",
      "                     or key)\n",
      "  themachine         Launch openstack cluster + replicate docker image\n",
      "\n"
     ]
    }
   ],
   "source": [
    "%%bash \n",
    "cd /Users/projects/gitsrepo/cloudscale/talks\n",
    "invoke -l"
   ]
  },
  {
   "cell_type": "markdown",
   "metadata": {
    "slideshow": {
     "slide_type": "subslide"
    }
   },
   "source": [
    "## Demo"
   ]
  },
  {
   "cell_type": "code",
   "execution_count": 30,
   "metadata": {
    "collapsed": false,
    "slideshow": {
     "slide_type": "subslide"
    }
   },
   "outputs": [
    {
     "data": {
      "text/plain": [
       "'/Users/projects/gitsrepo/cloudscale/talks'"
      ]
     },
     "execution_count": 30,
     "metadata": {},
     "output_type": "execute_result"
    }
   ],
   "source": [
    "%pwd"
   ]
  },
  {
   "cell_type": "code",
   "execution_count": 31,
   "metadata": {
    "collapsed": false,
    "slideshow": {
     "slide_type": "fragment"
    }
   },
   "outputs": [
    {
     "name": "stdout",
     "output_type": "stream",
     "text": [
      "/Users/projects/gitsrepo/cloudscale\n"
     ]
    }
   ],
   "source": [
    "%cd /Users/projects/gitsrepo/cloudscale"
   ]
  },
  {
   "cell_type": "code",
   "execution_count": 32,
   "metadata": {
    "collapsed": false,
    "slideshow": {
     "slide_type": "subslide"
    }
   },
   "outputs": [
    {
     "name": "stdout",
     "output_type": "stream",
     "text": [
      "1;Marty;McFly;\r",
      "\r\n",
      "2;Emmett;Brown;e.brown@thefuture.io\r",
      "\r\n",
      "3;Biff;Tannen;\r",
      "\r\n",
      "4;Jennifer;Parker;\r",
      "\r\n",
      "5;Einstein;TheDog;\r",
      "\r\n"
     ]
    }
   ],
   "source": [
    "%cat data/students.csv"
   ]
  },
  {
   "cell_type": "code",
   "execution_count": 33,
   "metadata": {
    "collapsed": false,
    "slideshow": {
     "slide_type": "subslide"
    }
   },
   "outputs": [
    {
     "name": "stdout",
     "output_type": "stream",
     "text": [
      "mymachine\r\n",
      "myswarm01\r\n",
      "myswarm02\r\n",
      "myswarm03\r\n",
      "myswarm04\r\n",
      "myswarm05\r\n",
      "myswarm06\r\n"
     ]
    }
   ],
   "source": [
    "! docker-machine ls --filter driver=openstack -q"
   ]
  },
  {
   "cell_type": "code",
   "execution_count": 34,
   "metadata": {
    "collapsed": false,
    "slideshow": {
     "slide_type": "subslide"
    }
   },
   "outputs": [
    {
     "name": "stdout",
     "output_type": "stream",
     "text": [
      "2016-04-17 17:49:23,749 tasks        INFO     Found file 'data/students.csv'\n",
      "2016-04-17 17:49:25,271 cloudscale.commander.machinery WARNING  Skipping: Machine 'mymachine' Already exists\n",
      "2016-04-17 17:49:35,448 cloudscale.commander.machinery WARNING  Skipping: Machine 'myswarm01' Already exists\n",
      "2016-04-17 17:49:42,592 cloudscale.commander.machinery WARNING  Skipping: Machine 'myswarm02' Already exists\n",
      "http://130.186.13.157:4321\tpw:LdDTZKoT\tcineca-nbsparkling004\tJennifer_Parker\n",
      "http://130.186.13.158:4321\tpw:H8V+EQGj\tcineca-nbsparkling007\tEXTRA\n",
      "http://130.186.13.157:4322\tpw:ksw0+NKU\tcineca-nbsparkling008\tEXTRA\n",
      "http://130.186.13.157:4323\tpw:YZ6MBe0d\tcineca-nbsparkling006\tEXTRA\n",
      "http://130.186.13.159:4323\tpw:41XVoDgb\tcineca-nbsparkling003\tEmmett_Brown\n",
      "http://130.186.13.159:4322\tpw:W5vnP2Qs\tcineca-nbsparkling002\tEinstein_TheDog\n",
      "http://130.186.13.159:4321\tpw:mS0VZ74b\tcineca-nbsparkling001\tBiff_Tannen\n",
      "http://130.186.13.158:4322\tpw:2mG954v0\tcineca-nbsparkling005\tEXTRA\n",
      "http://130.186.13.158:4323\tpw:N1MFdyBT\tcineca-nbsparkling009\tEXTRA\n",
      "{'myswarm01': '130.186.13.157', 'myswarm02': '130.186.13.158', 'mymachine': '130.186.13.159'}\n",
      "2016-04-17 17:50:08,502 tasks        INFO     Completed\n"
     ]
    }
   ],
   "source": [
    "! invoke themachine \\\n",
    "    --slaves 2 --pw --image \"cineca/nbsparkling\" \\\n",
    "    --port 8888 \\\n",
    "    --extra \"-e LECTURE_BRANCH=datanalytics -e LECTURE_PATH=material\" \\\n",
    "    --start 4321 --end 4323"
   ]
  },
  {
   "cell_type": "code",
   "execution_count": 35,
   "metadata": {
    "collapsed": false,
    "slideshow": {
     "slide_type": "subslide"
    }
   },
   "outputs": [
    {
     "name": "stdout",
     "output_type": "stream",
     "text": [
      "CONTAINER ID        IMAGE                COMMAND             CREATED              STATUS              PORTS                         NAMES\r\n",
      "aeb338608f05        cineca/nbsparkling   \"tini -- booter\"    About a minute ago   Up About a minute   192.168.0.42:4323->8888/tcp   myswarm02/cineca-nbsparkling009\r\n",
      "f8a87402b5a5        cineca/nbsparkling   \"tini -- booter\"    About a minute ago   Up About a minute   192.168.0.42:4321->8888/tcp   myswarm02/cineca-nbsparkling007\r\n",
      "f87975d19d26        cineca/nbsparkling   \"tini -- booter\"    About a minute ago   Up About a minute   192.168.0.41:4322->8888/tcp   myswarm01/cineca-nbsparkling008\r\n",
      "5679d96c2cca        cineca/nbsparkling   \"tini -- booter\"    About a minute ago   Up About a minute   192.168.0.42:4322->8888/tcp   myswarm02/cineca-nbsparkling005\r\n",
      "fd3a2fa164bd        cineca/nbsparkling   \"tini -- booter\"    About a minute ago   Up About a minute   192.168.0.41:4323->8888/tcp   myswarm01/cineca-nbsparkling006\r\n",
      "cc8321c4708c        cineca/nbsparkling   \"tini -- booter\"    About a minute ago   Up About a minute   192.168.0.41:4321->8888/tcp   myswarm01/cineca-nbsparkling004\r\n",
      "456e740f160b        cineca/nbsparkling   \"tini -- booter\"    About a minute ago   Up About a minute   192.168.0.40:4323->8888/tcp   mymachine/cineca-nbsparkling003\r\n",
      "5f88cc52d022        cineca/nbsparkling   \"tini -- booter\"    About a minute ago   Up About a minute   192.168.0.40:4322->8888/tcp   mymachine/cineca-nbsparkling002\r\n",
      "2cf30909c937        cineca/nbsparkling   \"tini -- booter\"    About a minute ago   Up About a minute   192.168.0.40:4321->8888/tcp   mymachine/cineca-nbsparkling001\r\n"
     ]
    }
   ],
   "source": [
    "! docker-machine ssh mymachine \"docker -H tcp://0.0.0.0:3333 ps\""
   ]
  },
  {
   "cell_type": "markdown",
   "metadata": {
    "slideshow": {
     "slide_type": "subslide"
    }
   },
   "source": [
    "<img src=\"images/scores.png\">"
   ]
  },
  {
   "cell_type": "markdown",
   "metadata": {
    "slideshow": {
     "slide_type": "subslide"
    }
   },
   "source": [
    "## I corsi che hanno fatto uso dei container jupyter su cloud \n",
    "(nei primi 4 mesi del progetto)\n",
    "\n",
    "- Computing science @rome\n",
    "- Massive data analytics @rome\n",
    "- Master for Big Data @bologna\n",
    "- Massive data analytics @bologna\n",
    "- Python objects and MapReduce @pisa"
   ]
  },
  {
   "cell_type": "markdown",
   "metadata": {
    "slideshow": {
     "slide_type": "slide"
    }
   },
   "source": [
    "## Il mio futuro con Python e Docker\n",
    "\n",
    "- Roadmap \n",
    "    - `Consul`\n",
    "- Se volete interagire: `issue`, `PR`\n",
    "- HPC-EUROPA 3 \n",
    "    - attività di ricerca su Container HPC\n",
    "- `Flask REST HTTP API` per progetto EUDAT"
   ]
  },
  {
   "cell_type": "markdown",
   "metadata": {
    "slideshow": {
     "slide_type": "slide"
    }
   },
   "source": [
    "<center>\n",
    "\n",
    "<h1> Grazie ! </h1>\n",
    "\n",
    "<img src=\"http://j.mp/1NviGhN\" width=400>\n",
    "\n",
    "</center>"
   ]
  }
 ],
 "metadata": {
  "celltoolbar": "Slideshow",
  "kernelspec": {
   "display_name": "Python 3",
   "language": "python",
   "name": "python3"
  },
  "language_info": {
   "codemirror_mode": {
    "name": "ipython",
    "version": 3
   },
   "file_extension": ".py",
   "mimetype": "text/x-python",
   "name": "python",
   "nbconvert_exporter": "python",
   "pygments_lexer": "ipython3",
   "version": "3.4.3"
  }
 },
 "nbformat": 4,
 "nbformat_minor": 0
}
