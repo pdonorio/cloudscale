{
 "cells": [
  {
   "cell_type": "markdown",
   "metadata": {
    "slideshow": {
     "slide_type": "slide"
    }
   },
   "source": [
    "# Automatizzare la creazione e la gestione \n",
    "# di un cluster di containers su cloud\n",
    "\n",
    "*#Pycon7* \n",
    "\n",
    "**Sottotitolo**: \n",
    "\n",
    "la storia dell'ideazione del nostro ambiente di corsi per linguaggio Python basato su Openstack, Docker, Anaconda e Jupyter\n",
    "\n",
    "<small>Slides disponibili a http://j.mp/pycon7-cineca</small>"
   ]
  },
  {
   "cell_type": "markdown",
   "metadata": {
    "slideshow": {
     "slide_type": "skip"
    }
   },
   "source": [
    "Logo pycon 7 https://odoo-community.org/website/image/ir.attachment/26982_7b70ca1/datas"
   ]
  },
  {
   "cell_type": "markdown",
   "metadata": {
    "slideshow": {
     "slide_type": "slide"
    }
   },
   "source": [
    "```\n",
    "Io, ...\n",
    "```"
   ]
  },
  {
   "cell_type": "code",
   "execution_count": 6,
   "metadata": {
    "collapsed": false,
    "slideshow": {
     "slide_type": "skip"
    }
   },
   "outputs": [
    {
     "data": {
      "text/html": [
       "<style>\n",
       "table,td,tr,th {border:none!important}\n",
       "</style>"
      ],
      "text/plain": [
       "<IPython.core.display.HTML object>"
      ]
     },
     "metadata": {},
     "output_type": "display_data"
    }
   ],
   "source": [
    "%%html\n",
    "<style>\n",
    "table,td,tr,th {border:none!important}\n",
    "</style>"
   ]
  },
  {
   "cell_type": "markdown",
   "metadata": {
    "slideshow": {
     "slide_type": "subslide"
    }
   },
   "source": [
    "<style type=\"text/css\" scoped>\n",
    "table,td,tr,th {border:none!important}\n",
    "</style>\n",
    "<table>\n",
    "<tr> <td colspan=2 align=center style='border: 0px;'>\n",
    "<center>\n",
    "<h1>\n",
    "Chi sono\n",
    "</h1>\n",
    "</center>\n",
    "</td>\n",
    "</tr>\n",
    "\n",
    "<tr>\n",
    "\n",
    "<td>\n",
    "\n",
    "<br>\n",
    "<img src='https://pbs.twimg.com/profile_images/588326878697619456/8lAb7yJ8.jpg' width=400>\n",
    "\n",
    "</td>\n",
    "\n",
    "<td>\n",
    "<ul>\n",
    "<li>\n",
    "Paolo [p.donoriodemeo@cineca.it](mailto:p.donoriodemeo@cineca.it) \n",
    "</li>\n",
    "<li>\n",
    "Twitter [@paolodonorio](https://twitter.com/paolodonorio)\n",
    "</li>\n",
    "<li>\n",
    "GitHub [@pdonorio](https://github.com/pdonorio), \n",
    "<br>&nbsp; [@cineca-scai](https://github.com/cineca-scai), [@EUDAT-B2STAGE](https://github.com/EUDAT-B2STAGE)\n",
    "</li>\n",
    "<li>Pythonista: 4 anni &hearts; con Python</li> \n",
    "<li>Secondo anno di seguito al Pycon</li> \n",
    "<li>Prima volta che presento (al Pycon)</li>\n",
    "</ul>\n",
    "</td>\n",
    "\n",
    "</tr></table>"
   ]
  },
  {
   "cell_type": "markdown",
   "metadata": {
    "slideshow": {
     "slide_type": "subslide"
    }
   },
   "source": [
    "<center>\n",
    "<h3> CINECA - Dipartimento SCAI </h3>\n",
    "<br>\n",
    "<i>Supporto alla ricerca e collaborazioni</i>\n",
    "<img src='http://www.hpc.cineca.it/sites/all/themes/scai/logo.png'>\n",
    "</center>"
   ]
  },
  {
   "cell_type": "markdown",
   "metadata": {
    "slideshow": {
     "slide_type": "subslide"
    }
   },
   "source": [
    "<img src='https://raw.githubusercontent.com/cineca-scai/lectures/sns/material/DAY_01/images/cineca.png'>"
   ]
  },
  {
   "cell_type": "markdown",
   "metadata": {
    "slideshow": {
     "slide_type": "subslide"
    }
   },
   "source": [
    "### Macchine di calcolo\n",
    "\n",
    "* *FERMI*\n",
    "    - BlueGene/Q - 163.840 cores\n",
    "* *GALILEO*\n",
    "    - IBM NeXtScale - 8.256 cores\n",
    "* *PICO*\n",
    "    - Architettura ibrida - 1.320+ cores"
   ]
  },
  {
   "cell_type": "markdown",
   "metadata": {
    "slideshow": {
     "slide_type": "fragment"
    }
   },
   "source": [
    "* *MARCONI*\n",
    "    - http://www.cineca.it/it/news/supercomputer-marconi (13/04/2016 )"
   ]
  },
  {
   "cell_type": "markdown",
   "metadata": {
    "slideshow": {
     "slide_type": "subslide"
    }
   },
   "source": [
    "### Richiesta risorse per il tuo progetto\n",
    "\n",
    "* **ISCRA** Nazionale \n",
    "* **PRACE** Europeo"
   ]
  },
  {
   "cell_type": "markdown",
   "metadata": {
    "slideshow": {
     "slide_type": "subslide"
    }
   },
   "source": [
    "### Corsi su High Performance Computing\n",
    "\n",
    "* Unix, C, C++, Fortran\n",
    "* MPI, OpenMP\n",
    "* Python\n",
    "\n",
    "http://www.cineca.it/it/content/elenco-corsi-hpc-2016"
   ]
  },
  {
   "cell_type": "markdown",
   "metadata": {
    "slideshow": {
     "slide_type": "slide"
    }
   },
   "source": [
    "```\n",
    "Io => Corso Python => ...\n",
    "```"
   ]
  },
  {
   "cell_type": "markdown",
   "metadata": {
    "slideshow": {
     "slide_type": "subslide"
    }
   },
   "source": [
    "# Python for computing science"
   ]
  },
  {
   "cell_type": "markdown",
   "metadata": {
    "slideshow": {
     "slide_type": "fragment"
    }
   },
   "source": [
    "- 2013: docente per il corso\n",
    "- Introduzione al linguaggio + Numpy, Scipy, Matplotlib, Cython, f2py\n",
    "- Slides in powerpoint\n",
    "- *Canopy* su Pc Windows per corsi"
   ]
  },
  {
   "cell_type": "markdown",
   "metadata": {
    "slideshow": {
     "slide_type": "subslide"
    }
   },
   "source": [
    "## The good\n",
    "\n",
    "- Linguaggio con curva veloce di apprendimento\n",
    "- Spiegazione funzionale "
   ]
  },
  {
   "cell_type": "markdown",
   "metadata": {
    "slideshow": {
     "slide_type": "fragment"
    }
   },
   "source": [
    "## The bad\n",
    "\n",
    "- Persone con proprio laptop: setup e versioni\n",
    "- Spiegare dove salvare i files per eseguirli"
   ]
  },
  {
   "cell_type": "markdown",
   "metadata": {
    "slideshow": {
     "slide_type": "fragment"
    }
   },
   "source": [
    "## The ugly\n",
    "\n",
    "- Shell (cmd) di windows\n",
    "- Copia/incolla template e soluzioni"
   ]
  },
  {
   "cell_type": "markdown",
   "metadata": {
    "slideshow": {
     "slide_type": "subslide"
    }
   },
   "source": [
    "### Lo studente medio di un nostro corso Python"
   ]
  },
  {
   "cell_type": "markdown",
   "metadata": {
    "slideshow": {
     "slide_type": "subslide"
    }
   },
   "source": [
    "<table>\n",
    "<tr>\n",
    "<td>\n",
    "<img src='http://www.warnerchannel.com/res/series/tbbt/character/per_howard_wolowitz.jpg' width=300>\n",
    "</td>\n",
    "<td>\n",
    "\n",
    "<ul>\n",
    "<li>\n",
    "Dall'accademia: laureando, dottorando, ricercatore\n",
    "</li><li>\n",
    "Scarse nozioni di programmazione classica\n",
    "</li><li>\n",
    "Qualche codice di scripting (quasi certamente R)\n",
    "</li><li>\n",
    "Necessita librerie con funzioni scientifiche\n",
    "</li><li>\n",
    "Vuole plot dei dati analizzati\n",
    "</li><li>\n",
    "Materiale con molti esempi pratici\n",
    "</li><li>\n",
    "Istruzioni su come installare in locale un ambiente analogo al cluster di calcolo\n",
    "</li>\n",
    "</ul>\n",
    "\n",
    "</td>\n",
    "</tr>\n",
    "</table>"
   ]
  },
  {
   "cell_type": "markdown",
   "metadata": {
    "slideshow": {
     "slide_type": "slide"
    }
   },
   "source": [
    "```\n",
    "Io => Corso Python => Docker => ...\n",
    "```"
   ]
  },
  {
   "cell_type": "markdown",
   "metadata": {
    "slideshow": {
     "slide_type": "subslide"
    }
   },
   "source": [
    "* Primi test con la creazione di API endpoint usando Flask\n",
    "* Replicare la stessa macchina virtuale da zero tra sviluppo e produzione"
   ]
  },
  {
   "cell_type": "markdown",
   "metadata": {
    "slideshow": {
     "slide_type": "fragment"
    }
   },
   "source": [
    "**stackoverflow**: [Should i use Vagrant or Docker](http://stackoverflow.com/questions/16647069/should-i-use-vagrant-or-docker-for-creating-an-isolated-environment)"
   ]
  },
  {
   "cell_type": "markdown",
   "metadata": {
    "slideshow": {
     "slide_type": "subslide"
    }
   },
   "source": [
    "## Contenitori e implementazioni"
   ]
  },
  {
   "cell_type": "markdown",
   "metadata": {
    "slideshow": {
     "slide_type": "subslide"
    }
   },
   "source": [
    "<img src=\"http://danstroot.com/assets/img/dockervsvm.png\">"
   ]
  },
  {
   "cell_type": "markdown",
   "metadata": {
    "slideshow": {
     "slide_type": "subslide"
    }
   },
   "source": [
    "- Un concetto utilizzato più di dieci anni fa\n",
    "    * LXC\n",
    "- Virtualizzazione su specifiche del Kernel \n",
    "    * CGROUPS (users, disk)\n",
    "    * NameSpaces (processes)\n",
    "- Orientato a performance vicine all'hardware\n",
    "    * Limitata a distribuzioni UNIX"
   ]
  },
  {
   "cell_type": "markdown",
   "metadata": {
    "slideshow": {
     "slide_type": "subslide"
    }
   },
   "source": [
    "> **What's LXC?**\n",
    "\n",
    "> LXC is a userspace interface for the Linux kernel containment features."
   ]
  },
  {
   "cell_type": "markdown",
   "metadata": {
    "slideshow": {
     "slide_type": "subslide"
    }
   },
   "source": [
    "## Quali alternative abbiamo?\n",
    "\n",
    "* LXC\n",
    "    - [LXD](https://linuxcontainers.org/lxd/introduction/)\n",
    "    - [Virtuozzo](https://virtuozzo.com/)\n",
    "    - [LVE](http://docs.cloudlinux.com/index.html?understanding_lve.html)\n",
    "* Docker\n",
    "* CoreOs [rkt](https://coreos.com/rkt/)\n",
    "* HPC [Shifter](http://j.mp/266N5hE)"
   ]
  },
  {
   "cell_type": "markdown",
   "metadata": {
    "slideshow": {
     "slide_type": "subslide"
    }
   },
   "source": [
    "## L'ecosistema Docker\n",
    "\n",
    "<img src=\"http://j.mp/1QUUrKp\" width=500>"
   ]
  },
  {
   "cell_type": "markdown",
   "metadata": {
    "slideshow": {
     "slide_type": "subslide"
    }
   },
   "source": [
    "> On March 13, 2014, with the release of version 0.9, Docker dropped LXC as the default execution environment and replaced it with its own libcontainer library written in the Go programming language."
   ]
  },
  {
   "cell_type": "markdown",
   "metadata": {},
   "source": [
    "## Docker engine\n",
    "\n",
    "<img src='https://denibertovic.com/talks/supercharge-development-env-using-docker/img/what_is_docker.png'>\n"
   ]
  },
  {
   "cell_type": "markdown",
   "metadata": {},
   "source": [
    "* Ha reso facile l'utilizzo dei container\n",
    "* Basato su un linguaggio a basso livello moderno ([GO](https://golang.org/), create da Google)\n",
    "* Implementata su libcontainers"
   ]
  },
  {
   "cell_type": "markdown",
   "metadata": {
    "slideshow": {
     "slide_type": "subslide"
    }
   },
   "source": [
    "## Docker (client) commands"
   ]
  },
  {
   "cell_type": "code",
   "execution_count": null,
   "metadata": {
    "collapsed": false,
    "slideshow": {
     "slide_type": "subslide"
    }
   },
   "outputs": [],
   "source": [
    "%%bash \n",
    "# Extra clean to show examples\n",
    "docker rm -f $(docker ps -a -q)"
   ]
  },
  {
   "cell_type": "markdown",
   "metadata": {
    "collapsed": false,
    "slideshow": {
     "slide_type": "subslide"
    }
   },
   "source": [
    "How docker commands work:\n",
    "\n",
    "```bash\n",
    "# Generic client\n",
    "docker DOCKER_COMMAND <options> \n",
    "\n",
    "# Run command\n",
    "docker run <options> IMAGE BASH_COMMAND\n",
    "```"
   ]
  },
  {
   "cell_type": "markdown",
   "metadata": {
    "collapsed": false,
    "slideshow": {
     "slide_type": "subslide"
    }
   },
   "source": [
    "Execute a container"
   ]
  },
  {
   "cell_type": "code",
   "execution_count": null,
   "metadata": {
    "collapsed": false,
    "slideshow": {
     "slide_type": "fragment"
    }
   },
   "outputs": [],
   "source": [
    "! docker run -it ubuntu:15.10 ls /"
   ]
  },
  {
   "cell_type": "markdown",
   "metadata": {
    "collapsed": false,
    "slideshow": {
     "slide_type": "subslide"
    }
   },
   "source": [
    "Launch a database server on the fly"
   ]
  },
  {
   "cell_type": "code",
   "execution_count": null,
   "metadata": {
    "collapsed": false,
    "slideshow": {
     "slide_type": "fragment"
    }
   },
   "outputs": [],
   "source": [
    "! docker run \\\n",
    "    --detach \\\n",
    "    --name mydb \\\n",
    "    -e POSTGRES_USER=paulie \\\n",
    "    -e POSTGRES_PASSWORD=mypass \\\n",
    "    -e POSTGRES_DB=justadb \\\n",
    "    postgres"
   ]
  },
  {
   "cell_type": "markdown",
   "metadata": {
    "slideshow": {
     "slide_type": "subslide"
    }
   },
   "source": [
    "You can freeze your containers!"
   ]
  },
  {
   "cell_type": "code",
   "execution_count": null,
   "metadata": {
    "collapsed": true,
    "slideshow": {
     "slide_type": "fragment"
    }
   },
   "outputs": [],
   "source": [
    "! docker stop mydb"
   ]
  },
  {
   "cell_type": "code",
   "execution_count": null,
   "metadata": {
    "collapsed": true,
    "slideshow": {
     "slide_type": "fragment"
    }
   },
   "outputs": [],
   "source": [
    "! docker start mydb"
   ]
  },
  {
   "cell_type": "markdown",
   "metadata": {
    "slideshow": {
     "slide_type": "subslide"
    }
   },
   "source": [
    "You may run commands on a running container\n",
    "\n",
    "(e.g. to open a bash inside)"
   ]
  },
  {
   "cell_type": "code",
   "execution_count": null,
   "metadata": {
    "collapsed": true,
    "slideshow": {
     "slide_type": "fragment"
    }
   },
   "outputs": [],
   "source": [
    "! docker exec -it mydb ls /var/lib"
   ]
  },
  {
   "cell_type": "markdown",
   "metadata": {
    "slideshow": {
     "slide_type": "slide"
    }
   },
   "source": [
    "## Deeper Docker"
   ]
  },
  {
   "cell_type": "markdown",
   "metadata": {
    "slideshow": {
     "slide_type": "subslide"
    }
   },
   "source": [
    "## Containers and processes"
   ]
  },
  {
   "cell_type": "code",
   "execution_count": null,
   "metadata": {
    "collapsed": false,
    "slideshow": {
     "slide_type": "subslide"
    }
   },
   "outputs": [],
   "source": [
    "! docker ps"
   ]
  },
  {
   "cell_type": "code",
   "execution_count": null,
   "metadata": {
    "collapsed": false,
    "slideshow": {
     "slide_type": "subslide"
    }
   },
   "outputs": [],
   "source": [
    "! docker ps -a"
   ]
  },
  {
   "cell_type": "markdown",
   "metadata": {
    "slideshow": {
     "slide_type": "subslide"
    }
   },
   "source": [
    "## Networking"
   ]
  },
  {
   "cell_type": "markdown",
   "metadata": {
    "slideshow": {
     "slide_type": "subslide"
    }
   },
   "source": [
    "The old way: linking containers to each other"
   ]
  },
  {
   "cell_type": "code",
   "execution_count": null,
   "metadata": {
    "collapsed": false,
    "slideshow": {
     "slide_type": "fragment"
    }
   },
   "outputs": [],
   "source": [
    "! docker run -it --link mydb:server -e PGPASSWORD=mypass postgres \\\n",
    "    psql \\\n",
    "    -h server \\\n",
    "    -U paulie \\\n",
    "    -d justadb \\\n",
    "    -c '\\l' #list databases"
   ]
  },
  {
   "cell_type": "code",
   "execution_count": null,
   "metadata": {
    "collapsed": false,
    "slideshow": {
     "slide_type": "fragment"
    }
   },
   "outputs": [],
   "source": [
    "! docker run -it --link acontainerthatdoesnotexist:linked ubuntu:15.10 bash"
   ]
  },
  {
   "cell_type": "markdown",
   "metadata": {
    "slideshow": {
     "slide_type": "subslide"
    }
   },
   "source": [
    "The new and more powerful way: create and manage networks"
   ]
  },
  {
   "cell_type": "code",
   "execution_count": null,
   "metadata": {
    "collapsed": false,
    "slideshow": {
     "slide_type": "subslide"
    }
   },
   "outputs": [],
   "source": [
    "! docker network create --driver=bridge mynet"
   ]
  },
  {
   "cell_type": "code",
   "execution_count": null,
   "metadata": {
    "collapsed": false,
    "slideshow": {
     "slide_type": "fragment"
    }
   },
   "outputs": [],
   "source": [
    "! docker run -d -p 80:80 --net=mynet clue/adminer"
   ]
  },
  {
   "cell_type": "markdown",
   "metadata": {
    "slideshow": {
     "slide_type": "fragment"
    }
   },
   "source": [
    "Now go to [localhost](http://local.docker)"
   ]
  },
  {
   "cell_type": "code",
   "execution_count": null,
   "metadata": {
    "collapsed": false,
    "slideshow": {
     "slide_type": "subslide"
    }
   },
   "outputs": [],
   "source": [
    "# Add a linked database on a running container (adminer)\n",
    "! docker run -d --name mydb --net=mynet \\\n",
    "    -e POSTGRES_USER=paulie \\\n",
    "    -e POSTGRES_PASSWORD=mypass \\\n",
    "    -e POSTGRES_DB=justadb \\\n",
    "    postgres"
   ]
  },
  {
   "cell_type": "markdown",
   "metadata": {
    "slideshow": {
     "slide_type": "subslide"
    }
   },
   "source": [
    "## Docker images\n",
    "\n",
    "What containers do run"
   ]
  },
  {
   "cell_type": "markdown",
   "metadata": {
    "slideshow": {
     "slide_type": "subslide"
    }
   },
   "source": [
    "There is an official and public Docker Hub\n",
    "\n",
    "(the GitHub of docker images)"
   ]
  },
  {
   "cell_type": "code",
   "execution_count": null,
   "metadata": {
    "collapsed": false,
    "slideshow": {
     "slide_type": "fragment"
    }
   },
   "outputs": [],
   "source": [
    "! docker search nginx"
   ]
  },
  {
   "cell_type": "markdown",
   "metadata": {
    "slideshow": {
     "slide_type": "subslide"
    }
   },
   "source": [
    "You can build your own image"
   ]
  },
  {
   "cell_type": "code",
   "execution_count": null,
   "metadata": {
    "collapsed": false,
    "slideshow": {
     "slide_type": "fragment"
    }
   },
   "outputs": [],
   "source": [
    "%%writefile Dockerfile\n",
    "FROM alpine\n",
    "RUN apk update && apk upgrade\n",
    "RUN apk add python3"
   ]
  },
  {
   "cell_type": "code",
   "execution_count": null,
   "metadata": {
    "collapsed": false,
    "slideshow": {
     "slide_type": "fragment"
    }
   },
   "outputs": [],
   "source": [
    "%cat Dockerfile"
   ]
  },
  {
   "cell_type": "markdown",
   "metadata": {
    "slideshow": {
     "slide_type": "subslide"
    }
   },
   "source": [
    "Then use it"
   ]
  },
  {
   "cell_type": "code",
   "execution_count": null,
   "metadata": {
    "collapsed": false,
    "slideshow": {
     "slide_type": "fragment"
    }
   },
   "outputs": [],
   "source": [
    "! docker build -t mydockerimage ."
   ]
  },
  {
   "cell_type": "code",
   "execution_count": null,
   "metadata": {
    "collapsed": false,
    "slideshow": {
     "slide_type": "fragment"
    }
   },
   "outputs": [],
   "source": [
    "# Test the image you created\n",
    "! docker run -it \\\n",
    "    mydockerimage \\\n",
    "    python3 -c \"print(5*5)\""
   ]
  },
  {
   "cell_type": "markdown",
   "metadata": {
    "slideshow": {
     "slide_type": "subslide"
    }
   },
   "source": [
    "And push it to the public hub"
   ]
  },
  {
   "cell_type": "code",
   "execution_count": null,
   "metadata": {
    "collapsed": true
   },
   "outputs": [],
   "source": [
    "! docker push mydockerimage"
   ]
  },
  {
   "cell_type": "markdown",
   "metadata": {
    "slideshow": {
     "slide_type": "fragment"
    }
   },
   "source": [
    "- CINECA inside the Docker Hub:\n",
    "https://hub.docker.com/u/cineca/\n",
    "- My images:\n",
    "https://hub.docker.com/u/pdonorio/"
   ]
  },
  {
   "cell_type": "markdown",
   "metadata": {
    "slideshow": {
     "slide_type": "subslide"
    }
   },
   "source": [
    "## Volumes and persistence"
   ]
  },
  {
   "cell_type": "markdown",
   "metadata": {},
   "source": [
    "Containers are volatile"
   ]
  },
  {
   "cell_type": "code",
   "execution_count": null,
   "metadata": {
    "collapsed": true,
    "slideshow": {
     "slide_type": "subslide"
    }
   },
   "outputs": [],
   "source": [
    "! docker run --rm busybox touch /tmp/justatest"
   ]
  },
  {
   "cell_type": "code",
   "execution_count": null,
   "metadata": {
    "collapsed": false,
    "slideshow": {
     "slide_type": "fragment"
    }
   },
   "outputs": [],
   "source": [
    "! docker run -it busybox sh -c \"ls /tmp/*\""
   ]
  },
  {
   "cell_type": "markdown",
   "metadata": {
    "slideshow": {
     "slide_type": "subslide"
    }
   },
   "source": [
    "If we launch a database server, and that containers dies... the data is gone."
   ]
  },
  {
   "cell_type": "markdown",
   "metadata": {
    "slideshow": {
     "slide_type": "subslide"
    }
   },
   "source": [
    "Let's use the docker volumes"
   ]
  },
  {
   "cell_type": "code",
   "execution_count": null,
   "metadata": {
    "collapsed": false,
    "slideshow": {
     "slide_type": "fragment"
    }
   },
   "outputs": [],
   "source": [
    "! docker volume ls"
   ]
  },
  {
   "cell_type": "code",
   "execution_count": null,
   "metadata": {
    "collapsed": true,
    "slideshow": {
     "slide_type": "fragment"
    }
   },
   "outputs": [],
   "source": [
    "! docker run -it \\\n",
    "    -v persistence_test:/tmp \\\n",
    "    busybox touch /tmp/justatest"
   ]
  },
  {
   "cell_type": "code",
   "execution_count": null,
   "metadata": {
    "collapsed": false,
    "slideshow": {
     "slide_type": "subslide"
    }
   },
   "outputs": [],
   "source": [
    "! docker volume ls"
   ]
  },
  {
   "cell_type": "code",
   "execution_count": null,
   "metadata": {
    "collapsed": false,
    "slideshow": {
     "slide_type": "fragment"
    }
   },
   "outputs": [],
   "source": [
    "! docker run -it \\\n",
    "    -v persistence_test:/tmp \\\n",
    "    busybox sh -c \"ls /tmp/*\""
   ]
  },
  {
   "cell_type": "markdown",
   "metadata": {
    "slideshow": {
     "slide_type": "subslide"
    }
   },
   "source": [
    "You may also:\n",
    "\n",
    "* Mount a directory from the hosting machine as a volume\n",
    "* Launch a data-only-container to share a volume across multiple containers\n",
    "    - volume-from command"
   ]
  },
  {
   "cell_type": "markdown",
   "metadata": {
    "slideshow": {
     "slide_type": "slide"
    }
   },
   "source": [
    "```\n",
    "Io => Corso Python => Docker => Anaconda => ....\n",
    "```"
   ]
  },
  {
   "cell_type": "markdown",
   "metadata": {
    "slideshow": {
     "slide_type": "subslide"
    }
   },
   "source": [
    "### L'immagine Docker"
   ]
  },
  {
   "cell_type": "markdown",
   "metadata": {},
   "source": [
    "## Cosa è piaciuto\n",
    "\n",
    "- Possibilità di replicare l'ambiente di esercitazione a casa"
   ]
  },
  {
   "cell_type": "markdown",
   "metadata": {},
   "source": [
    "## Cosa non è piaciuto\n",
    "\n",
    "- Il tempo passato a spiegare come usare Docker\n",
    "- Copia/incolla di comandi non molto chiari (e.g. rimuovi tutti i containers)"
   ]
  },
  {
   "cell_type": "markdown",
   "metadata": {
    "slideshow": {
     "slide_type": "slide"
    }
   },
   "source": [
    "```\n",
    "Io => Corso Python => Docker => Anaconda => \n",
    "    Jupyter => ...\n",
    "```"
   ]
  },
  {
   "cell_type": "markdown",
   "metadata": {
    "slideshow": {
     "slide_type": "subslide"
    }
   },
   "source": [
    "Quando è avvenuto il fork?"
   ]
  },
  {
   "cell_type": "markdown",
   "metadata": {},
   "source": [
    "Docker stack repo"
   ]
  },
  {
   "cell_type": "markdown",
   "metadata": {},
   "source": [
    "GitHub cineca lectures"
   ]
  },
  {
   "cell_type": "markdown",
   "metadata": {},
   "source": [
    "Rise plugin?"
   ]
  },
  {
   "cell_type": "markdown",
   "metadata": {},
   "source": [
    "Hub docker cineca e aggiornamento (facile) delle versioni nelle immagini"
   ]
  },
  {
   "cell_type": "markdown",
   "metadata": {},
   "source": [
    "MapReduce, Hadoop, Spark\n",
    "\n",
    "(e immagine docker con cluster hadoop)"
   ]
  },
  {
   "cell_type": "markdown",
   "metadata": {
    "slideshow": {
     "slide_type": "slide"
    }
   },
   "source": [
    "```\n",
    "Io => Corso Python => Docker => Anaconda => \n",
    "    Jupyter => Pycon6 => ...\n",
    "```"
   ]
  },
  {
   "cell_type": "markdown",
   "metadata": {
    "slideshow": {
     "slide_type": "subslide"
    }
   },
   "source": [
    "## L'ispirazione per questo talk"
   ]
  },
  {
   "cell_type": "markdown",
   "metadata": {
    "slideshow": {
     "slide_type": "fragment"
    }
   },
   "source": [
    "<img src='images/tweet.png' width=600>"
   ]
  },
  {
   "cell_type": "markdown",
   "metadata": {
    "slideshow": {
     "slide_type": "skip"
    }
   },
   "source": [
    "https://twitter.com/paolodonorio/status/589834889974919168\n",
    "    "
   ]
  },
  {
   "cell_type": "markdown",
   "metadata": {
    "slideshow": {
     "slide_type": "slide"
    }
   },
   "source": [
    "```\n",
    "Io => Corso Python => Docker => Anaconda => \n",
    "    Jupyter => Pycon6 => OpenStack => ...\n",
    "```"
   ]
  },
  {
   "cell_type": "markdown",
   "metadata": {
    "slideshow": {
     "slide_type": "subslide"
    }
   },
   "source": [
    "## Uno swarm per ghermirli tutti\n",
    "\n",
    "Pico e il cloud al Cineca"
   ]
  },
  {
   "cell_type": "markdown",
   "metadata": {},
   "source": [
    "# Un cluster volatile (on demand)\n",
    "\n",
    "swarm 1.0 in produzione (quando è uscito?)"
   ]
  },
  {
   "cell_type": "markdown",
   "metadata": {},
   "source": [
    "Protocollo per creare uno swarm con Docker:\n",
    "\n",
    "- docker-machine per ogni VM\n",
    "- crea token swarm su Docker Hub\n",
    "- docker swarm master da una VM\n",
    "- docker swarm slave da tutte le altre VM\n",
    "- check se tutte le VM sono collegate allo swarm"
   ]
  },
  {
   "cell_type": "markdown",
   "metadata": {},
   "source": [
    "n.b. grazie a docker machine possiamo usare un cloud qualsiasi:\n",
    "    \n",
    "virtualbox, openstack, aws, google cloud, azure, etc."
   ]
  },
  {
   "cell_type": "markdown",
   "metadata": {},
   "source": [
    "# Due settimane per sviluppare il prototipo"
   ]
  },
  {
   "cell_type": "markdown",
   "metadata": {},
   "source": [
    "work in progress gif\n",
    "http://giphy.com/search/working-hard"
   ]
  },
  {
   "cell_type": "markdown",
   "metadata": {},
   "source": [
    "Fabric is a Python (2.5-2.7) library and command-line tool for streamlining the use of SSH for application deployment or systems administration tasks."
   ]
  },
  {
   "cell_type": "markdown",
   "metadata": {},
   "source": [
    "plumbum, paramiko, invoke \n",
    "(fabric non python3-ready)"
   ]
  },
  {
   "cell_type": "markdown",
   "metadata": {},
   "source": [
    "esempio di input csv"
   ]
  },
  {
   "cell_type": "markdown",
   "metadata": {},
   "source": [
    "esempio di output lista containers"
   ]
  },
  {
   "cell_type": "markdown",
   "metadata": {},
   "source": [
    "demo da command line invoke -l"
   ]
  },
  {
   "cell_type": "markdown",
   "metadata": {},
   "source": [
    "aggiungi comando list containers?"
   ]
  },
  {
   "cell_type": "markdown",
   "metadata": {},
   "source": [
    "---"
   ]
  },
  {
   "cell_type": "markdown",
   "metadata": {},
   "source": [
    "Voti corso python for computing science 2015"
   ]
  },
  {
   "cell_type": "markdown",
   "metadata": {},
   "source": [
    "Corso \"Python for computing science\"\n",
    "\n",
    "2012 - Fusione\n",
    "2013 - Slides in powerpoint\n",
    "2014 - Docker su computer windows con virtualbox\n",
    "2015/03 - Docker su linux workstation per fornire Hadoop & Pyspark\n",
    "2015/12 - Jupyter su Docker "
   ]
  },
  {
   "cell_type": "markdown",
   "metadata": {},
   "source": [
    "- Computing science @rome\n",
    "- Massive data analytics @rome\n",
    "- Master for Big Data @bologna\n",
    "- Massive data analytics @bologna\n",
    "- Python objects and MapReduce @pisa"
   ]
  },
  {
   "cell_type": "markdown",
   "metadata": {
    "slideshow": {
     "slide_type": "slide"
    }
   },
   "source": [
    "```\n",
    "Io => Corso Python => Docker => Anaconda => \n",
    "    Jupyter => Pycon6 => OpenStack => \n",
    "    Il futuro => ...\n",
    "```"
   ]
  },
  {
   "cell_type": "markdown",
   "metadata": {
    "slideshow": {
     "slide_type": "slide"
    }
   },
   "source": [
    "## Il mio futuro con il Python e Docker\n",
    "\n",
    "- Roadmap \n",
    "- Issues and Pull request\n",
    "- HPC EUROPA 3 - JRA su Containers\n",
    "- Flask REST HTTP API per progetto EUDAT"
   ]
  },
  {
   "cell_type": "markdown",
   "metadata": {
    "slideshow": {
     "slide_type": "subslide"
    }
   },
   "source": [
    "## Dockerize or not to dockerize?"
   ]
  }
 ],
 "metadata": {
  "celltoolbar": "Slideshow",
  "kernelspec": {
   "display_name": "Python 3",
   "language": "python",
   "name": "python3"
  },
  "language_info": {
   "codemirror_mode": {
    "name": "ipython",
    "version": 3
   },
   "file_extension": ".py",
   "mimetype": "text/x-python",
   "name": "python",
   "nbconvert_exporter": "python",
   "pygments_lexer": "ipython3",
   "version": "3.4.3"
  }
 },
 "nbformat": 4,
 "nbformat_minor": 0
}
